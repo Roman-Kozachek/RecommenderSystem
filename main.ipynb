{
 "cells": [
  {
   "cell_type": "markdown",
   "id": "quiet-nitrogen",
   "metadata": {},
   "source": [
    "# 1. Выбор метрики"
   ]
  },
  {
   "cell_type": "markdown",
   "id": "c73b1306",
   "metadata": {},
   "source": [
    "## 1.1. Предисловие"
   ]
  },
  {
   "cell_type": "markdown",
   "id": "77177c9a",
   "metadata": {},
   "source": [
    "Как оценить, справляется ли наша рекомендательная система с поставленной задачей? Рекомендует ли она те фильмы, которые будут интересны пользователю? Насколько хорошо она понимает пользователя?\n",
    "\n",
    "Для ответа на данные вопросы применяются различные метрики для оценки эффективности рекомендательной системы.  \n",
    "Например, nDCG, AUC, Precision@k и Recall@k, обычные Precision и Recall и другие. У каждой из них есть свои плюсы и минусы.  \n",
    "В рамках решения данной задачи мне необходимо было выбрать метрику, которая, как мне кажется, наилучшим образом демонстрирует точность работы рекомендательной системы."
   ]
  },
  {
   "cell_type": "markdown",
   "id": "6da09496",
   "metadata": {},
   "source": [
    "## 1.2. Формализация задачи"
   ]
  },
  {
   "cell_type": "markdown",
   "id": "f8d6f4ce",
   "metadata": {},
   "source": [
    "В рамках исходного задания об исследовании двух подходов к построению рекомендательных систем я формализовал задачу так: необходимо построить рекомендательную систему, которая, на основании известных данных о предыдущих оценках фильмов пользователем, способна рекомендовать фильмы, которые будут высоко оценены пользователем. Оценки находятся в промежутке от 0 до 5, высокими будем называть оценки >=4.\n",
    "\n",
    "Таким образом, формализованная задача является задачей бинарной классификации: для каждого фильма, не просмотренного пользователем, необходимо определить, поставил бы пользователь высокую или низкую оценку данному фильму. "
   ]
  },
  {
   "cell_type": "markdown",
   "id": "bed2bd1a",
   "metadata": {},
   "source": [
    "## 1.3. Метрика"
   ]
  },
  {
   "cell_type": "markdown",
   "id": "812383dd",
   "metadata": {},
   "source": [
    "Для оценки точности работы модели в рамках задачи бинарной классификации наиболее показательной метрикой, на мой взгляд, является метрика **AUC** - **A**rea **U**nder **C**urve, где curve - это ROC кривая.    \n",
    "\n",
    "ROC кривая демонстрирует соотношение True Positive и False Positive в зависимости от выбора порога решающего правила. \n",
    "\n",
    "Анализ ROC кривой позволит нам, на практике, самостоятельно выбрать значение порога, в зависимости от наших целей.  \n",
    "Например, если мы не хотим рисковать, рекомендуя пользователю фильмы, которые могут ему не понравиться, мы можем установить значение порога достаточно высоким. Или же, наоборот, если нам важнее количество, а не качество рекомендаций, то порог можно понизить.\n",
    "Таким образом, ROC-кривая позволяет получить информацию о точности и ее зависимости от порога решающего правила.\n",
    "\n",
    "Метрика **AUC** широко используется для сравнения точности моделей на основании ROC кривой и позволит нам сравнить построенные модели рекомендательных систем."
   ]
  },
  {
   "cell_type": "code",
   "execution_count": 1,
   "id": "62399025",
   "metadata": {},
   "outputs": [],
   "source": [
    "from sklearn.metrics import roc_auc_score"
   ]
  },
  {
   "cell_type": "markdown",
   "id": "5e3713bc",
   "metadata": {},
   "source": [
    "## 1.4. Другие метрики"
   ]
  },
  {
   "cell_type": "markdown",
   "id": "4e0a8405",
   "metadata": {},
   "source": [
    "При другой формализации задачи (например, при построении модели, аппроксимирующей оценки пользователей от 0 до 5), возможно, **AUC** был бы не лучшей метрикой, и вместо нее можно было бы взять метрику для оценки точности ранжирования nDCG."
   ]
  },
  {
   "cell_type": "markdown",
   "id": "impaired-tennis",
   "metadata": {},
   "source": [
    "# 2. Разбиение данных на обучение и валидацию"
   ]
  },
  {
   "cell_type": "markdown",
   "id": "80851943",
   "metadata": {},
   "source": [
    "В рамках формализованной задачи вижу несколько способов разбиения датасета на train и test.  \n",
    " \n",
    "Для составления test можно выделить:\n",
    "1. Определенный процент оцененных фильмов для каждого пользователя;\n",
    "2. Определенное количество оцененных фильмов для каждого пользователя;\n",
    "3. Определенное количество пользователей со всеми их оценками.\n",
    "\n",
    "Каждый подход обладает своими преимуществами и недостатками.  \n",
    "\n",
    "Первый подход в целом неплох, однако он не слишком хорошо подходит для выбранной метрики, поскольку размеры списков предсказываемых оценок будут сильно различаться. Например, для пользователя с 20-ю оценками, необходимо будет рассчитывать метрику на 4-х фильмах (при выборе test_size 20%), а для пользователя с 1000 - на двухстах. Важность построенного AUC для каждого пользователя, конечно, можно сопоставить с размером его тестовой выборки, добавив весовой коэффициент, однако это вносит дополнительные трудности в расчет метрики.  \n",
    "\n",
    "Второй подход в этом плане лучше, поскольку при фиксированном количестве необходимых к оценке фильмов мы получаем уже взвешенную метрику AUC. Кроме того, такое разбиение позволит оценить, насколько, в среднем, рекомендательная система \"понимает\" интересы пользователей с разным количеством оцененных фильмов. На мой взгляд, это наилучший вариант.\n",
    "\n",
    "Третий подход также неплох, однако для реализации потребуется вводить дополнительную логику, чтобы предсказывать фильмы для пользователей, чьи оценки не учитывались на этапе обучения модели. Такой подход привлекателен с практической точки зрения. Он отвечает на вопрос, насколько хорошо мы можем рекомендовать фильмы совершенно новым пользователям. Однако, его реализация значительно затрудняет процесс оценки эффективности самих моделей, что идет в разрез с тестовым заданием - сравнить коллаборативный и гибридный подходы.\n",
    "\n",
    "В итоге, был выбран второй подход.  \n",
    "Для каждого пользователя из датасета мы будем брать последние 10 оцененных им фильмов и убирать их из обучающего датасета, чтобы в последствии тестировать модели на них."
   ]
  },
  {
   "cell_type": "markdown",
   "id": "suburban-craft",
   "metadata": {},
   "source": [
    "# 3. Обработка базы данных (коллаборативный подход)"
   ]
  },
  {
   "cell_type": "markdown",
   "id": "starting-seeking",
   "metadata": {},
   "source": [
    "## 3.0. Подготовка к работе"
   ]
  },
  {
   "cell_type": "code",
   "execution_count": 2,
   "id": "given-demographic",
   "metadata": {},
   "outputs": [],
   "source": [
    "import os, zipfile\n",
    "\n",
    "file_name = 'archive.zip'\n",
    "archive_dir = \"archive\"\n",
    "data_dir = \"data\"\n",
    "\n",
    "\n",
    "if not os.path.exists(data_dir):\n",
    "    os.mkdir(data_dir)\n",
    "    \n",
    "if not os.path.exists(archive_dir):\n",
    "    os.mkdir(archive_dir)\n",
    "\n",
    "if file_name not in os.listdir():\n",
    "    raise Exception(\"Пожалуйста, скачайте датасет (https://www.kaggle.com/grouplens/movielens-20m-dataset) и поместите его в одну папку с ноутбуком\")\n",
    "else:    \n",
    "    zip_ref = zipfile.ZipFile(file_name) # create zipfile object\n",
    "    zip_ref.extractall(archive_dir) # extract file to dir\n",
    "    zip_ref.close() # close file"
   ]
  },
  {
   "cell_type": "markdown",
   "id": "brutal-involvement",
   "metadata": {},
   "source": [
    "## 3.1. Загрузка таблицы rating.csv"
   ]
  },
  {
   "cell_type": "code",
   "execution_count": 3,
   "id": "streaming-playlist",
   "metadata": {},
   "outputs": [
    {
     "data": {
      "text/plain": [
       "['genome_scores.csv',\n",
       " 'genome_tags.csv',\n",
       " 'link.csv',\n",
       " 'movie.csv',\n",
       " 'rating.csv',\n",
       " 'tag.csv']"
      ]
     },
     "execution_count": 3,
     "metadata": {},
     "output_type": "execute_result"
    }
   ],
   "source": [
    "import os\n",
    "os.listdir(\"archive/\")"
   ]
  },
  {
   "cell_type": "code",
   "execution_count": 4,
   "id": "demographic-indian",
   "metadata": {
    "scrolled": false
   },
   "outputs": [
    {
     "data": {
      "text/html": [
       "<div>\n",
       "<style scoped>\n",
       "    .dataframe tbody tr th:only-of-type {\n",
       "        vertical-align: middle;\n",
       "    }\n",
       "\n",
       "    .dataframe tbody tr th {\n",
       "        vertical-align: top;\n",
       "    }\n",
       "\n",
       "    .dataframe thead th {\n",
       "        text-align: right;\n",
       "    }\n",
       "</style>\n",
       "<table border=\"1\" class=\"dataframe\">\n",
       "  <thead>\n",
       "    <tr style=\"text-align: right;\">\n",
       "      <th></th>\n",
       "      <th>userId</th>\n",
       "      <th>movieId</th>\n",
       "      <th>rating</th>\n",
       "      <th>timestamp</th>\n",
       "    </tr>\n",
       "  </thead>\n",
       "  <tbody>\n",
       "    <tr>\n",
       "      <th>0</th>\n",
       "      <td>1</td>\n",
       "      <td>2</td>\n",
       "      <td>3.5</td>\n",
       "      <td>2005-04-02 23:53:47</td>\n",
       "    </tr>\n",
       "    <tr>\n",
       "      <th>1</th>\n",
       "      <td>1</td>\n",
       "      <td>29</td>\n",
       "      <td>3.5</td>\n",
       "      <td>2005-04-02 23:31:16</td>\n",
       "    </tr>\n",
       "    <tr>\n",
       "      <th>2</th>\n",
       "      <td>1</td>\n",
       "      <td>32</td>\n",
       "      <td>3.5</td>\n",
       "      <td>2005-04-02 23:33:39</td>\n",
       "    </tr>\n",
       "    <tr>\n",
       "      <th>3</th>\n",
       "      <td>1</td>\n",
       "      <td>47</td>\n",
       "      <td>3.5</td>\n",
       "      <td>2005-04-02 23:32:07</td>\n",
       "    </tr>\n",
       "    <tr>\n",
       "      <th>4</th>\n",
       "      <td>1</td>\n",
       "      <td>50</td>\n",
       "      <td>3.5</td>\n",
       "      <td>2005-04-02 23:29:40</td>\n",
       "    </tr>\n",
       "    <tr>\n",
       "      <th>...</th>\n",
       "      <td>...</td>\n",
       "      <td>...</td>\n",
       "      <td>...</td>\n",
       "      <td>...</td>\n",
       "    </tr>\n",
       "    <tr>\n",
       "      <th>20000258</th>\n",
       "      <td>138493</td>\n",
       "      <td>68954</td>\n",
       "      <td>4.5</td>\n",
       "      <td>2009-11-13 15:42:00</td>\n",
       "    </tr>\n",
       "    <tr>\n",
       "      <th>20000259</th>\n",
       "      <td>138493</td>\n",
       "      <td>69526</td>\n",
       "      <td>4.5</td>\n",
       "      <td>2009-12-03 18:31:48</td>\n",
       "    </tr>\n",
       "    <tr>\n",
       "      <th>20000260</th>\n",
       "      <td>138493</td>\n",
       "      <td>69644</td>\n",
       "      <td>3.0</td>\n",
       "      <td>2009-12-07 18:10:57</td>\n",
       "    </tr>\n",
       "    <tr>\n",
       "      <th>20000261</th>\n",
       "      <td>138493</td>\n",
       "      <td>70286</td>\n",
       "      <td>5.0</td>\n",
       "      <td>2009-11-13 15:42:24</td>\n",
       "    </tr>\n",
       "    <tr>\n",
       "      <th>20000262</th>\n",
       "      <td>138493</td>\n",
       "      <td>71619</td>\n",
       "      <td>2.5</td>\n",
       "      <td>2009-10-17 20:25:36</td>\n",
       "    </tr>\n",
       "  </tbody>\n",
       "</table>\n",
       "<p>20000263 rows × 4 columns</p>\n",
       "</div>"
      ],
      "text/plain": [
       "          userId  movieId  rating           timestamp\n",
       "0              1        2     3.5 2005-04-02 23:53:47\n",
       "1              1       29     3.5 2005-04-02 23:31:16\n",
       "2              1       32     3.5 2005-04-02 23:33:39\n",
       "3              1       47     3.5 2005-04-02 23:32:07\n",
       "4              1       50     3.5 2005-04-02 23:29:40\n",
       "...          ...      ...     ...                 ...\n",
       "20000258  138493    68954     4.5 2009-11-13 15:42:00\n",
       "20000259  138493    69526     4.5 2009-12-03 18:31:48\n",
       "20000260  138493    69644     3.0 2009-12-07 18:10:57\n",
       "20000261  138493    70286     5.0 2009-11-13 15:42:24\n",
       "20000262  138493    71619     2.5 2009-10-17 20:25:36\n",
       "\n",
       "[20000263 rows x 4 columns]"
      ]
     },
     "execution_count": 4,
     "metadata": {},
     "output_type": "execute_result"
    }
   ],
   "source": [
    "import numpy as np\n",
    "import pandas as pd\n",
    "\n",
    "rating_df = pd.read_csv(\"archive/rating.csv\", parse_dates=[\"timestamp\"])\n",
    "rating_df"
   ]
  },
  {
   "cell_type": "code",
   "execution_count": 5,
   "id": "informational-export",
   "metadata": {},
   "outputs": [
    {
     "name": "stdout",
     "output_type": "stream",
     "text": [
      "138493\tУникальных пользователей\n",
      "26744\tУникальных фильмов\n"
     ]
    }
   ],
   "source": [
    "print(f\"{rating_df.userId.nunique()}\\tУникальных пользователей\\n{rating_df.movieId.nunique()}\\tУникальных фильмов\")"
   ]
  },
  {
   "cell_type": "markdown",
   "id": "noble-housing",
   "metadata": {},
   "source": [
    "## 3.2. Анализ rating.csv"
   ]
  },
  {
   "cell_type": "markdown",
   "id": "6fa240f9",
   "metadata": {},
   "source": [
    "Из описания к датасету ясно, что каждый пользователь оценил как минимум 20 фильмов. Однако, в описании нет информации о том, сколько раз был оценен каждый фильм. Необходимо провести проверку."
   ]
  },
  {
   "cell_type": "code",
   "execution_count": 6,
   "id": "spread-little",
   "metadata": {},
   "outputs": [],
   "source": [
    "%matplotlib inline\n",
    "import matplotlib.pyplot as plt"
   ]
  },
  {
   "cell_type": "code",
   "execution_count": 7,
   "id": "alien-effectiveness",
   "metadata": {},
   "outputs": [],
   "source": [
    "num_rated = rating_df.groupby(\"movieId\").count().sort_values(\"userId\", ascending=False).userId.values"
   ]
  },
  {
   "cell_type": "code",
   "execution_count": 8,
   "id": "composed-concentrate",
   "metadata": {},
   "outputs": [
    {
     "name": "stdout",
     "output_type": "stream",
     "text": [
      "Число уникальных фильмов:  26744\n"
     ]
    },
    {
     "data": {
      "image/png": "[encoded data removed]",
      "text/plain": [
       "<Figure size 432x288 with 1 Axes>"
      ]
     },
     "metadata": {
      "needs_background": "light"
     },
     "output_type": "display_data"
    }
   ],
   "source": [
    "print(\"Число уникальных фильмов: \",len(num_rated))\n",
    "fig, ax = plt.subplots()\n",
    "ax.set_xlim(xmin=-1000, xmax=len(num_rated))\n",
    "ax.plot(num_rated, range(len(num_rated)))\n",
    "\n",
    "fig.tight_layout()\n",
    "plt.show()"
   ]
  },
  {
   "cell_type": "markdown",
   "id": "respected-palmer",
   "metadata": {},
   "source": [
    "Как видим, большая часть фильмов имеет относительно небольшое количество оценок. Взглянем на распределение более детально "
   ]
  },
  {
   "cell_type": "code",
   "execution_count": 9,
   "id": "genetic-tuner",
   "metadata": {},
   "outputs": [
    {
     "data": {
      "text/html": [
       "<div>\n",
       "<style scoped>\n",
       "    .dataframe tbody tr th:only-of-type {\n",
       "        vertical-align: middle;\n",
       "    }\n",
       "\n",
       "    .dataframe tbody tr th {\n",
       "        vertical-align: top;\n",
       "    }\n",
       "\n",
       "    .dataframe thead th {\n",
       "        text-align: right;\n",
       "    }\n",
       "</style>\n",
       "<table border=\"1\" class=\"dataframe\">\n",
       "  <thead>\n",
       "    <tr style=\"text-align: right;\">\n",
       "      <th></th>\n",
       "      <th>userId</th>\n",
       "      <th>rating</th>\n",
       "      <th>timestamp</th>\n",
       "    </tr>\n",
       "  </thead>\n",
       "  <tbody>\n",
       "    <tr>\n",
       "      <th>count</th>\n",
       "      <td>26744.000000</td>\n",
       "      <td>26744.000000</td>\n",
       "      <td>26744.000000</td>\n",
       "    </tr>\n",
       "    <tr>\n",
       "      <th>mean</th>\n",
       "      <td>747.841123</td>\n",
       "      <td>747.841123</td>\n",
       "      <td>747.841123</td>\n",
       "    </tr>\n",
       "    <tr>\n",
       "      <th>std</th>\n",
       "      <td>3085.818268</td>\n",
       "      <td>3085.818268</td>\n",
       "      <td>3085.818268</td>\n",
       "    </tr>\n",
       "    <tr>\n",
       "      <th>min</th>\n",
       "      <td>1.000000</td>\n",
       "      <td>1.000000</td>\n",
       "      <td>1.000000</td>\n",
       "    </tr>\n",
       "    <tr>\n",
       "      <th>25%</th>\n",
       "      <td>3.000000</td>\n",
       "      <td>3.000000</td>\n",
       "      <td>3.000000</td>\n",
       "    </tr>\n",
       "    <tr>\n",
       "      <th>50%</th>\n",
       "      <td>18.000000</td>\n",
       "      <td>18.000000</td>\n",
       "      <td>18.000000</td>\n",
       "    </tr>\n",
       "    <tr>\n",
       "      <th>75%</th>\n",
       "      <td>205.000000</td>\n",
       "      <td>205.000000</td>\n",
       "      <td>205.000000</td>\n",
       "    </tr>\n",
       "    <tr>\n",
       "      <th>max</th>\n",
       "      <td>67310.000000</td>\n",
       "      <td>67310.000000</td>\n",
       "      <td>67310.000000</td>\n",
       "    </tr>\n",
       "  </tbody>\n",
       "</table>\n",
       "</div>"
      ],
      "text/plain": [
       "             userId        rating     timestamp\n",
       "count  26744.000000  26744.000000  26744.000000\n",
       "mean     747.841123    747.841123    747.841123\n",
       "std     3085.818268   3085.818268   3085.818268\n",
       "min        1.000000      1.000000      1.000000\n",
       "25%        3.000000      3.000000      3.000000\n",
       "50%       18.000000     18.000000     18.000000\n",
       "75%      205.000000    205.000000    205.000000\n",
       "max    67310.000000  67310.000000  67310.000000"
      ]
     },
     "execution_count": 9,
     "metadata": {},
     "output_type": "execute_result"
    }
   ],
   "source": [
    "rating_df.groupby(\"movieId\").count().describe()"
   ]
  },
  {
   "cell_type": "markdown",
   "id": "f7daef25",
   "metadata": {},
   "source": [
    "25% фильмов были оценены не более 3-х раз, а 50% - не более 18."
   ]
  },
  {
   "cell_type": "markdown",
   "id": "cellular-infrastructure",
   "metadata": {},
   "source": [
    "Наличие фильмов с небольшим количеством оценок может негативно сказаться на работе моделей - они создают малопрогнозируемый шум. Кроме того, они значительно увеличивают объемы памяти, необходимые для работы с данными."
   ]
  },
  {
   "cell_type": "markdown",
   "id": "unique-debut",
   "metadata": {},
   "source": [
    "Для того, чтобы избежать потенциальных проблем, описанных выше, оставим в датасете только те фильмы, которые были оценены минимум 50 раз."
   ]
  },
  {
   "cell_type": "code",
   "execution_count": 10,
   "id": "cc65637e",
   "metadata": {},
   "outputs": [
    {
     "data": {
      "text/plain": [
       "10473"
      ]
     },
     "execution_count": 10,
     "metadata": {},
     "output_type": "execute_result"
    }
   ],
   "source": [
    "sum(num_rated>50)"
   ]
  },
  {
   "cell_type": "code",
   "execution_count": 11,
   "id": "measured-rough",
   "metadata": {},
   "outputs": [
    {
     "data": {
      "text/html": [
       "<div>\n",
       "<style scoped>\n",
       "    .dataframe tbody tr th:only-of-type {\n",
       "        vertical-align: middle;\n",
       "    }\n",
       "\n",
       "    .dataframe tbody tr th {\n",
       "        vertical-align: top;\n",
       "    }\n",
       "\n",
       "    .dataframe thead th {\n",
       "        text-align: right;\n",
       "    }\n",
       "</style>\n",
       "<table border=\"1\" class=\"dataframe\">\n",
       "  <thead>\n",
       "    <tr style=\"text-align: right;\">\n",
       "      <th></th>\n",
       "      <th>userId</th>\n",
       "      <th>movieId</th>\n",
       "      <th>rating</th>\n",
       "      <th>timestamp</th>\n",
       "    </tr>\n",
       "  </thead>\n",
       "  <tbody>\n",
       "    <tr>\n",
       "      <th>0</th>\n",
       "      <td>1</td>\n",
       "      <td>2</td>\n",
       "      <td>3.5</td>\n",
       "      <td>2005-04-02 23:53:47</td>\n",
       "    </tr>\n",
       "    <tr>\n",
       "      <th>1</th>\n",
       "      <td>1</td>\n",
       "      <td>29</td>\n",
       "      <td>3.5</td>\n",
       "      <td>2005-04-02 23:31:16</td>\n",
       "    </tr>\n",
       "    <tr>\n",
       "      <th>2</th>\n",
       "      <td>1</td>\n",
       "      <td>32</td>\n",
       "      <td>3.5</td>\n",
       "      <td>2005-04-02 23:33:39</td>\n",
       "    </tr>\n",
       "    <tr>\n",
       "      <th>3</th>\n",
       "      <td>1</td>\n",
       "      <td>47</td>\n",
       "      <td>3.5</td>\n",
       "      <td>2005-04-02 23:32:07</td>\n",
       "    </tr>\n",
       "    <tr>\n",
       "      <th>4</th>\n",
       "      <td>1</td>\n",
       "      <td>50</td>\n",
       "      <td>3.5</td>\n",
       "      <td>2005-04-02 23:29:40</td>\n",
       "    </tr>\n",
       "    <tr>\n",
       "      <th>...</th>\n",
       "      <td>...</td>\n",
       "      <td>...</td>\n",
       "      <td>...</td>\n",
       "      <td>...</td>\n",
       "    </tr>\n",
       "    <tr>\n",
       "      <th>20000258</th>\n",
       "      <td>138493</td>\n",
       "      <td>68954</td>\n",
       "      <td>4.5</td>\n",
       "      <td>2009-11-13 15:42:00</td>\n",
       "    </tr>\n",
       "    <tr>\n",
       "      <th>20000259</th>\n",
       "      <td>138493</td>\n",
       "      <td>69526</td>\n",
       "      <td>4.5</td>\n",
       "      <td>2009-12-03 18:31:48</td>\n",
       "    </tr>\n",
       "    <tr>\n",
       "      <th>20000260</th>\n",
       "      <td>138493</td>\n",
       "      <td>69644</td>\n",
       "      <td>3.0</td>\n",
       "      <td>2009-12-07 18:10:57</td>\n",
       "    </tr>\n",
       "    <tr>\n",
       "      <th>20000261</th>\n",
       "      <td>138493</td>\n",
       "      <td>70286</td>\n",
       "      <td>5.0</td>\n",
       "      <td>2009-11-13 15:42:24</td>\n",
       "    </tr>\n",
       "    <tr>\n",
       "      <th>20000262</th>\n",
       "      <td>138493</td>\n",
       "      <td>71619</td>\n",
       "      <td>2.5</td>\n",
       "      <td>2009-10-17 20:25:36</td>\n",
       "    </tr>\n",
       "  </tbody>\n",
       "</table>\n",
       "<p>19845397 rows × 4 columns</p>\n",
       "</div>"
      ],
      "text/plain": [
       "          userId  movieId  rating           timestamp\n",
       "0              1        2     3.5 2005-04-02 23:53:47\n",
       "1              1       29     3.5 2005-04-02 23:31:16\n",
       "2              1       32     3.5 2005-04-02 23:33:39\n",
       "3              1       47     3.5 2005-04-02 23:32:07\n",
       "4              1       50     3.5 2005-04-02 23:29:40\n",
       "...          ...      ...     ...                 ...\n",
       "20000258  138493    68954     4.5 2009-11-13 15:42:00\n",
       "20000259  138493    69526     4.5 2009-12-03 18:31:48\n",
       "20000260  138493    69644     3.0 2009-12-07 18:10:57\n",
       "20000261  138493    70286     5.0 2009-11-13 15:42:24\n",
       "20000262  138493    71619     2.5 2009-10-17 20:25:36\n",
       "\n",
       "[19845397 rows x 4 columns]"
      ]
     },
     "execution_count": 11,
     "metadata": {},
     "output_type": "execute_result"
    }
   ],
   "source": [
    "gr_df = rating_df.groupby(\"movieId\").count()\n",
    "ind = gr_df.loc[gr_df.userId>50].index\n",
    "rating_df = rating_df.loc[rating_df.movieId.isin(ind)]\n",
    "rating_df"
   ]
  },
  {
   "cell_type": "markdown",
   "id": "17b3c0d0",
   "metadata": {},
   "source": [
    "## 3.3. Нормализация оценок"
   ]
  },
  {
   "cell_type": "markdown",
   "id": "d8c9d86f",
   "metadata": {},
   "source": [
    "Необходимо преобразовать \"положительные\" оценки больше или равные 4-м в единицы, а остальные - в минус один. "
   ]
  },
  {
   "cell_type": "code",
   "execution_count": 12,
   "id": "8442c0d3",
   "metadata": {},
   "outputs": [
    {
     "name": "stderr",
     "output_type": "stream",
     "text": [
      "c:\\users\\roman-k\\workplace\\cuda_env\\lib\\site-packages\\ipykernel_launcher.py:1: SettingWithCopyWarning: \n",
      "A value is trying to be set on a copy of a slice from a DataFrame.\n",
      "Try using .loc[row_indexer,col_indexer] = value instead\n",
      "\n",
      "See the caveats in the documentation: https://pandas.pydata.org/pandas-docs/stable/user_guide/indexing.html#returning-a-view-versus-a-copy\n",
      "  \"\"\"Entry point for launching an IPython kernel.\n"
     ]
    },
    {
     "data": {
      "text/html": [
       "<div>\n",
       "<style scoped>\n",
       "    .dataframe tbody tr th:only-of-type {\n",
       "        vertical-align: middle;\n",
       "    }\n",
       "\n",
       "    .dataframe tbody tr th {\n",
       "        vertical-align: top;\n",
       "    }\n",
       "\n",
       "    .dataframe thead th {\n",
       "        text-align: right;\n",
       "    }\n",
       "</style>\n",
       "<table border=\"1\" class=\"dataframe\">\n",
       "  <thead>\n",
       "    <tr style=\"text-align: right;\">\n",
       "      <th></th>\n",
       "      <th>userId</th>\n",
       "      <th>movieId</th>\n",
       "      <th>rating</th>\n",
       "      <th>timestamp</th>\n",
       "    </tr>\n",
       "  </thead>\n",
       "  <tbody>\n",
       "    <tr>\n",
       "      <th>0</th>\n",
       "      <td>1</td>\n",
       "      <td>2</td>\n",
       "      <td>-1</td>\n",
       "      <td>2005-04-02 23:53:47</td>\n",
       "    </tr>\n",
       "    <tr>\n",
       "      <th>1</th>\n",
       "      <td>1</td>\n",
       "      <td>29</td>\n",
       "      <td>-1</td>\n",
       "      <td>2005-04-02 23:31:16</td>\n",
       "    </tr>\n",
       "    <tr>\n",
       "      <th>2</th>\n",
       "      <td>1</td>\n",
       "      <td>32</td>\n",
       "      <td>-1</td>\n",
       "      <td>2005-04-02 23:33:39</td>\n",
       "    </tr>\n",
       "    <tr>\n",
       "      <th>3</th>\n",
       "      <td>1</td>\n",
       "      <td>47</td>\n",
       "      <td>-1</td>\n",
       "      <td>2005-04-02 23:32:07</td>\n",
       "    </tr>\n",
       "    <tr>\n",
       "      <th>4</th>\n",
       "      <td>1</td>\n",
       "      <td>50</td>\n",
       "      <td>-1</td>\n",
       "      <td>2005-04-02 23:29:40</td>\n",
       "    </tr>\n",
       "    <tr>\n",
       "      <th>...</th>\n",
       "      <td>...</td>\n",
       "      <td>...</td>\n",
       "      <td>...</td>\n",
       "      <td>...</td>\n",
       "    </tr>\n",
       "    <tr>\n",
       "      <th>20000258</th>\n",
       "      <td>138493</td>\n",
       "      <td>68954</td>\n",
       "      <td>1</td>\n",
       "      <td>2009-11-13 15:42:00</td>\n",
       "    </tr>\n",
       "    <tr>\n",
       "      <th>20000259</th>\n",
       "      <td>138493</td>\n",
       "      <td>69526</td>\n",
       "      <td>1</td>\n",
       "      <td>2009-12-03 18:31:48</td>\n",
       "    </tr>\n",
       "    <tr>\n",
       "      <th>20000260</th>\n",
       "      <td>138493</td>\n",
       "      <td>69644</td>\n",
       "      <td>-1</td>\n",
       "      <td>2009-12-07 18:10:57</td>\n",
       "    </tr>\n",
       "    <tr>\n",
       "      <th>20000261</th>\n",
       "      <td>138493</td>\n",
       "      <td>70286</td>\n",
       "      <td>1</td>\n",
       "      <td>2009-11-13 15:42:24</td>\n",
       "    </tr>\n",
       "    <tr>\n",
       "      <th>20000262</th>\n",
       "      <td>138493</td>\n",
       "      <td>71619</td>\n",
       "      <td>-1</td>\n",
       "      <td>2009-10-17 20:25:36</td>\n",
       "    </tr>\n",
       "  </tbody>\n",
       "</table>\n",
       "<p>19845397 rows × 4 columns</p>\n",
       "</div>"
      ],
      "text/plain": [
       "          userId  movieId  rating           timestamp\n",
       "0              1        2      -1 2005-04-02 23:53:47\n",
       "1              1       29      -1 2005-04-02 23:31:16\n",
       "2              1       32      -1 2005-04-02 23:33:39\n",
       "3              1       47      -1 2005-04-02 23:32:07\n",
       "4              1       50      -1 2005-04-02 23:29:40\n",
       "...          ...      ...     ...                 ...\n",
       "20000258  138493    68954       1 2009-11-13 15:42:00\n",
       "20000259  138493    69526       1 2009-12-03 18:31:48\n",
       "20000260  138493    69644      -1 2009-12-07 18:10:57\n",
       "20000261  138493    70286       1 2009-11-13 15:42:24\n",
       "20000262  138493    71619      -1 2009-10-17 20:25:36\n",
       "\n",
       "[19845397 rows x 4 columns]"
      ]
     },
     "execution_count": 12,
     "metadata": {},
     "output_type": "execute_result"
    }
   ],
   "source": [
    "rating_df[\"rating\"] = rating_df.rating.apply(lambda x: 1 if x>=4 else -1)\n",
    "rating_df"
   ]
  },
  {
   "cell_type": "markdown",
   "id": "1e04d2e3",
   "metadata": {},
   "source": [
    "## 3.4. Проверка UserId и MovieId на последовательность"
   ]
  },
  {
   "cell_type": "markdown",
   "id": "9033a2bf",
   "metadata": {},
   "source": [
    "Было бы удобно, если бы id фильмов и пользователей соответствовали своему порядковому номеру. Проведем проверку"
   ]
  },
  {
   "cell_type": "code",
   "execution_count": 13,
   "id": "b98fa31c",
   "metadata": {},
   "outputs": [
    {
     "data": {
      "text/plain": [
       "True"
      ]
     },
     "execution_count": 13,
     "metadata": {},
     "output_type": "execute_result"
    }
   ],
   "source": [
    "sorted(rating_df.userId.unique()) == list(range(1, rating_df.userId.nunique()+1))"
   ]
  },
  {
   "cell_type": "code",
   "execution_count": 14,
   "id": "3e297eb1",
   "metadata": {},
   "outputs": [
    {
     "data": {
      "text/plain": [
       "False"
      ]
     },
     "execution_count": 14,
     "metadata": {},
     "output_type": "execute_result"
    }
   ],
   "source": [
    "sorted(rating_df.movieId.unique()) == list(range(1, rating_df.movieId.nunique()+1))"
   ]
  },
  {
   "cell_type": "markdown",
   "id": "e51eec42",
   "metadata": {},
   "source": [
    "Обнаружилась проблема в MovieId. Индексы фильмов идут не по порядку, пропуская значения, что может привести к проблемам с индексацией. Решено составить словари соответствий."
   ]
  },
  {
   "cell_type": "code",
   "execution_count": 15,
   "id": "3ee9ba1b",
   "metadata": {},
   "outputs": [],
   "source": [
    "# Уникальные ID\n",
    "ids = sorted(rating_df.movieId.unique())\n",
    "# Словарь позиция-id\n",
    "pos2id = {pos: i for pos, i in zip(range(1, len(ids)+1), ids)}\n",
    "# Словарь id-позиция\n",
    "id2pos = {i: pos for pos, i in zip(range(1, len(ids)+1), ids)}"
   ]
  },
  {
   "cell_type": "markdown",
   "id": "3cd4e46d",
   "metadata": {},
   "source": [
    "Переведем movieId в таблице в новый формат"
   ]
  },
  {
   "cell_type": "code",
   "execution_count": 16,
   "id": "f5a5ad1b",
   "metadata": {},
   "outputs": [
    {
     "name": "stderr",
     "output_type": "stream",
     "text": [
      "c:\\users\\roman-k\\workplace\\cuda_env\\lib\\site-packages\\pandas\\core\\generic.py:5491: SettingWithCopyWarning: \n",
      "A value is trying to be set on a copy of a slice from a DataFrame.\n",
      "Try using .loc[row_indexer,col_indexer] = value instead\n",
      "\n",
      "See the caveats in the documentation: https://pandas.pydata.org/pandas-docs/stable/user_guide/indexing.html#returning-a-view-versus-a-copy\n",
      "  self[name] = value\n"
     ]
    },
    {
     "data": {
      "text/html": [
       "<div>\n",
       "<style scoped>\n",
       "    .dataframe tbody tr th:only-of-type {\n",
       "        vertical-align: middle;\n",
       "    }\n",
       "\n",
       "    .dataframe tbody tr th {\n",
       "        vertical-align: top;\n",
       "    }\n",
       "\n",
       "    .dataframe thead th {\n",
       "        text-align: right;\n",
       "    }\n",
       "</style>\n",
       "<table border=\"1\" class=\"dataframe\">\n",
       "  <thead>\n",
       "    <tr style=\"text-align: right;\">\n",
       "      <th></th>\n",
       "      <th>userId</th>\n",
       "      <th>movieId</th>\n",
       "      <th>rating</th>\n",
       "      <th>timestamp</th>\n",
       "    </tr>\n",
       "  </thead>\n",
       "  <tbody>\n",
       "    <tr>\n",
       "      <th>0</th>\n",
       "      <td>1</td>\n",
       "      <td>2</td>\n",
       "      <td>-1</td>\n",
       "      <td>2005-04-02 23:53:47</td>\n",
       "    </tr>\n",
       "    <tr>\n",
       "      <th>1</th>\n",
       "      <td>1</td>\n",
       "      <td>29</td>\n",
       "      <td>-1</td>\n",
       "      <td>2005-04-02 23:31:16</td>\n",
       "    </tr>\n",
       "    <tr>\n",
       "      <th>2</th>\n",
       "      <td>1</td>\n",
       "      <td>32</td>\n",
       "      <td>-1</td>\n",
       "      <td>2005-04-02 23:33:39</td>\n",
       "    </tr>\n",
       "    <tr>\n",
       "      <th>3</th>\n",
       "      <td>1</td>\n",
       "      <td>47</td>\n",
       "      <td>-1</td>\n",
       "      <td>2005-04-02 23:32:07</td>\n",
       "    </tr>\n",
       "    <tr>\n",
       "      <th>4</th>\n",
       "      <td>1</td>\n",
       "      <td>50</td>\n",
       "      <td>-1</td>\n",
       "      <td>2005-04-02 23:29:40</td>\n",
       "    </tr>\n",
       "    <tr>\n",
       "      <th>...</th>\n",
       "      <td>...</td>\n",
       "      <td>...</td>\n",
       "      <td>...</td>\n",
       "      <td>...</td>\n",
       "    </tr>\n",
       "    <tr>\n",
       "      <th>20000258</th>\n",
       "      <td>138493</td>\n",
       "      <td>9103</td>\n",
       "      <td>1</td>\n",
       "      <td>2009-11-13 15:42:00</td>\n",
       "    </tr>\n",
       "    <tr>\n",
       "      <th>20000259</th>\n",
       "      <td>138493</td>\n",
       "      <td>9130</td>\n",
       "      <td>1</td>\n",
       "      <td>2009-12-03 18:31:48</td>\n",
       "    </tr>\n",
       "    <tr>\n",
       "      <th>20000260</th>\n",
       "      <td>138493</td>\n",
       "      <td>9137</td>\n",
       "      <td>-1</td>\n",
       "      <td>2009-12-07 18:10:57</td>\n",
       "    </tr>\n",
       "    <tr>\n",
       "      <th>20000261</th>\n",
       "      <td>138493</td>\n",
       "      <td>9162</td>\n",
       "      <td>1</td>\n",
       "      <td>2009-11-13 15:42:24</td>\n",
       "    </tr>\n",
       "    <tr>\n",
       "      <th>20000262</th>\n",
       "      <td>138493</td>\n",
       "      <td>9240</td>\n",
       "      <td>-1</td>\n",
       "      <td>2009-10-17 20:25:36</td>\n",
       "    </tr>\n",
       "  </tbody>\n",
       "</table>\n",
       "<p>19845397 rows × 4 columns</p>\n",
       "</div>"
      ],
      "text/plain": [
       "          userId  movieId  rating           timestamp\n",
       "0              1        2      -1 2005-04-02 23:53:47\n",
       "1              1       29      -1 2005-04-02 23:31:16\n",
       "2              1       32      -1 2005-04-02 23:33:39\n",
       "3              1       47      -1 2005-04-02 23:32:07\n",
       "4              1       50      -1 2005-04-02 23:29:40\n",
       "...          ...      ...     ...                 ...\n",
       "20000258  138493     9103       1 2009-11-13 15:42:00\n",
       "20000259  138493     9130       1 2009-12-03 18:31:48\n",
       "20000260  138493     9137      -1 2009-12-07 18:10:57\n",
       "20000261  138493     9162       1 2009-11-13 15:42:24\n",
       "20000262  138493     9240      -1 2009-10-17 20:25:36\n",
       "\n",
       "[19845397 rows x 4 columns]"
      ]
     },
     "execution_count": 16,
     "metadata": {},
     "output_type": "execute_result"
    }
   ],
   "source": [
    "rating_df.movieId = rating_df.movieId.apply(lambda x: id2pos[x])\n",
    "rating_df"
   ]
  },
  {
   "cell_type": "markdown",
   "id": "atlantic-savage",
   "metadata": {},
   "source": [
    "## 3.5. Разделение датасета на train и test"
   ]
  },
  {
   "cell_type": "markdown",
   "id": "governmental-parking",
   "metadata": {},
   "source": [
    "На этапе постановки задачи было решено разделить исходную базу данных на обучающий и тестовый наборы данных следующим образом:  \n",
    "  \n",
    "1. Набор для тестирования - последние 10 оценок каждого пользователя;   \n",
    "2. Набор для обучения - остальные оценки для каждого пользователя. \n",
    "\n",
    "Так как операция разделения ресурсозатратная (или я не нашел более оптимального решения), создадим для нее специальный метод с возможностью загрузки из памяти, если датасеты уже были созданы.  "
   ]
  },
  {
   "cell_type": "code",
   "execution_count": 17,
   "id": "ordered-regression",
   "metadata": {},
   "outputs": [],
   "source": [
    "# Отсортируем по id и времени \n",
    "rating_df = rating_df.sort_values([\"userId\", \"timestamp\"])\n",
    "# И удалим столбец со временем - он больше не пригодится\n",
    "rating_df.drop(\"timestamp\", axis=1, inplace=True)"
   ]
  },
  {
   "cell_type": "code",
   "execution_count": 18,
   "id": "french-input",
   "metadata": {},
   "outputs": [],
   "source": [
    "def split(df, train_name='train.csv', test_name='test.csv', path='data/', force=False):\n",
    "    \"\"\"\n",
    "    Данный метод разделяет df на train и test(10 последних оценок), \n",
    "    \"\"\"\n",
    "    # Загрузка датасетов с диска, если они есть\n",
    "    if (train_name in os.listdir(path) and test_name in os.listdir(path)) and not force:\n",
    "        return pd.read_csv(path + train_name),\\\n",
    "               pd.read_csv(path + test_name)\n",
    "    else:\n",
    "        \n",
    "        # Датасет с фильмами пользователя, которые будем пытаться угадать \n",
    "        test_df = df.groupby(\"userId\").apply(lambda x: x.iloc[-10:])\n",
    "        test_df = test_df.drop(\"userId\", axis=1).reset_index().drop(\"level_1\", axis=1)\n",
    "\n",
    "        # Датасет с фильмами пользователя, по которым будем строить модели\n",
    "        train_df = df.groupby(\"userId\").apply(lambda x: x.iloc[:-10])\n",
    "        train_df = train_df.drop(\"userId\", axis=1).reset_index().drop(\"level_1\", axis=1)\n",
    "        \n",
    "        # Сохраним датасеты\n",
    "        train_df.to_csv(path + train_name, index=False)\n",
    "        test_df.to_csv(path + test_name, index=False)\n",
    "        \n",
    "        return train_df, test_df"
   ]
  },
  {
   "cell_type": "code",
   "execution_count": 19,
   "id": "buried-minority",
   "metadata": {},
   "outputs": [],
   "source": [
    "train_df, test_df = split(rating_df)"
   ]
  },
  {
   "cell_type": "markdown",
   "id": "d2473a4d",
   "metadata": {},
   "source": [
    "Проверим, все ли фильмы из изначального датасета попали в train_df"
   ]
  },
  {
   "cell_type": "code",
   "execution_count": 20,
   "id": "3ea9f86f",
   "metadata": {
    "scrolled": true
   },
   "outputs": [
    {
     "data": {
      "text/plain": [
       "True"
      ]
     },
     "execution_count": 20,
     "metadata": {},
     "output_type": "execute_result"
    }
   ],
   "source": [
    "train_df.movieId.nunique() == rating_df.movieId.nunique()"
   ]
  },
  {
   "cell_type": "markdown",
   "id": "99ce36f9",
   "metadata": {},
   "source": [
    "# 4. Обработка базы данных (гибридный (коллаборативный+контентный) подход)"
   ]
  },
  {
   "cell_type": "markdown",
   "id": "86ccfe6d",
   "metadata": {},
   "source": [
    "## 4.1. Информация о жанрах"
   ]
  },
  {
   "cell_type": "markdown",
   "id": "64186e0e",
   "metadata": {},
   "source": [
    "Точность работы модели потенциально можно повысить, если принять во внимание свойства самих объектов - фильмов. В датасете, помимо названий фильмов и их оценок от пользователей, также содержится информация о жанрах, к которым принадлежит каждый фильм (movies.csv), а также тэгах и степени релевантности этих тэгов по отношению к фильмам (genome_scores.csv). Кроме того, в датасете присутствует таблица tag.csv, которая показывает, какие тэги отдельные пользователи назначали просмотренным фильмам."
   ]
  },
  {
   "cell_type": "markdown",
   "id": "79e5d8b1",
   "metadata": {},
   "source": [
    "Необходимо составить таблицу, содержащую в себе дополнительную информацию о фильмах. Для начала, возьмем информацию о жанрах фильмов."
   ]
  },
  {
   "cell_type": "code",
   "execution_count": 21,
   "id": "bc8f423b",
   "metadata": {},
   "outputs": [
    {
     "data": {
      "text/plain": [
       "['genome_scores.csv',\n",
       " 'genome_tags.csv',\n",
       " 'link.csv',\n",
       " 'movie.csv',\n",
       " 'rating.csv',\n",
       " 'tag.csv']"
      ]
     },
     "execution_count": 21,
     "metadata": {},
     "output_type": "execute_result"
    }
   ],
   "source": [
    "os.listdir(\"archive/\")"
   ]
  },
  {
   "cell_type": "code",
   "execution_count": 22,
   "id": "2a66cd4a",
   "metadata": {},
   "outputs": [
    {
     "data": {
      "text/html": [
       "<div>\n",
       "<style scoped>\n",
       "    .dataframe tbody tr th:only-of-type {\n",
       "        vertical-align: middle;\n",
       "    }\n",
       "\n",
       "    .dataframe tbody tr th {\n",
       "        vertical-align: top;\n",
       "    }\n",
       "\n",
       "    .dataframe thead th {\n",
       "        text-align: right;\n",
       "    }\n",
       "</style>\n",
       "<table border=\"1\" class=\"dataframe\">\n",
       "  <thead>\n",
       "    <tr style=\"text-align: right;\">\n",
       "      <th></th>\n",
       "      <th>movieId</th>\n",
       "      <th>title</th>\n",
       "      <th>genres</th>\n",
       "    </tr>\n",
       "  </thead>\n",
       "  <tbody>\n",
       "    <tr>\n",
       "      <th>0</th>\n",
       "      <td>1</td>\n",
       "      <td>Toy Story (1995)</td>\n",
       "      <td>Adventure|Animation|Children|Comedy|Fantasy</td>\n",
       "    </tr>\n",
       "    <tr>\n",
       "      <th>1</th>\n",
       "      <td>2</td>\n",
       "      <td>Jumanji (1995)</td>\n",
       "      <td>Adventure|Children|Fantasy</td>\n",
       "    </tr>\n",
       "    <tr>\n",
       "      <th>2</th>\n",
       "      <td>3</td>\n",
       "      <td>Grumpier Old Men (1995)</td>\n",
       "      <td>Comedy|Romance</td>\n",
       "    </tr>\n",
       "    <tr>\n",
       "      <th>3</th>\n",
       "      <td>4</td>\n",
       "      <td>Waiting to Exhale (1995)</td>\n",
       "      <td>Comedy|Drama|Romance</td>\n",
       "    </tr>\n",
       "    <tr>\n",
       "      <th>4</th>\n",
       "      <td>5</td>\n",
       "      <td>Father of the Bride Part II (1995)</td>\n",
       "      <td>Comedy</td>\n",
       "    </tr>\n",
       "    <tr>\n",
       "      <th>...</th>\n",
       "      <td>...</td>\n",
       "      <td>...</td>\n",
       "      <td>...</td>\n",
       "    </tr>\n",
       "    <tr>\n",
       "      <th>27273</th>\n",
       "      <td>131254</td>\n",
       "      <td>Kein Bund für's Leben (2007)</td>\n",
       "      <td>Comedy</td>\n",
       "    </tr>\n",
       "    <tr>\n",
       "      <th>27274</th>\n",
       "      <td>131256</td>\n",
       "      <td>Feuer, Eis &amp; Dosenbier (2002)</td>\n",
       "      <td>Comedy</td>\n",
       "    </tr>\n",
       "    <tr>\n",
       "      <th>27275</th>\n",
       "      <td>131258</td>\n",
       "      <td>The Pirates (2014)</td>\n",
       "      <td>Adventure</td>\n",
       "    </tr>\n",
       "    <tr>\n",
       "      <th>27276</th>\n",
       "      <td>131260</td>\n",
       "      <td>Rentun Ruusu (2001)</td>\n",
       "      <td>(no genres listed)</td>\n",
       "    </tr>\n",
       "    <tr>\n",
       "      <th>27277</th>\n",
       "      <td>131262</td>\n",
       "      <td>Innocence (2014)</td>\n",
       "      <td>Adventure|Fantasy|Horror</td>\n",
       "    </tr>\n",
       "  </tbody>\n",
       "</table>\n",
       "<p>27278 rows × 3 columns</p>\n",
       "</div>"
      ],
      "text/plain": [
       "       movieId                               title  \\\n",
       "0            1                    Toy Story (1995)   \n",
       "1            2                      Jumanji (1995)   \n",
       "2            3             Grumpier Old Men (1995)   \n",
       "3            4            Waiting to Exhale (1995)   \n",
       "4            5  Father of the Bride Part II (1995)   \n",
       "...        ...                                 ...   \n",
       "27273   131254        Kein Bund für's Leben (2007)   \n",
       "27274   131256       Feuer, Eis & Dosenbier (2002)   \n",
       "27275   131258                  The Pirates (2014)   \n",
       "27276   131260                 Rentun Ruusu (2001)   \n",
       "27277   131262                    Innocence (2014)   \n",
       "\n",
       "                                            genres  \n",
       "0      Adventure|Animation|Children|Comedy|Fantasy  \n",
       "1                       Adventure|Children|Fantasy  \n",
       "2                                   Comedy|Romance  \n",
       "3                             Comedy|Drama|Romance  \n",
       "4                                           Comedy  \n",
       "...                                            ...  \n",
       "27273                                       Comedy  \n",
       "27274                                       Comedy  \n",
       "27275                                    Adventure  \n",
       "27276                           (no genres listed)  \n",
       "27277                     Adventure|Fantasy|Horror  \n",
       "\n",
       "[27278 rows x 3 columns]"
      ]
     },
     "execution_count": 22,
     "metadata": {},
     "output_type": "execute_result"
    }
   ],
   "source": [
    "mv = pd.read_csv(\"archive/movie.csv\")\n",
    "mv"
   ]
  },
  {
   "cell_type": "markdown",
   "id": "ef057f30",
   "metadata": {},
   "source": [
    "Удалим те фильмы, которые мы убрали из исходной таблицы, и переведем movieId в новый формат, согласно словарю id2pos"
   ]
  },
  {
   "cell_type": "code",
   "execution_count": 23,
   "id": "1ee2330f",
   "metadata": {
    "scrolled": false
   },
   "outputs": [
    {
     "name": "stderr",
     "output_type": "stream",
     "text": [
      "c:\\users\\roman-k\\workplace\\cuda_env\\lib\\site-packages\\pandas\\core\\generic.py:5491: SettingWithCopyWarning: \n",
      "A value is trying to be set on a copy of a slice from a DataFrame.\n",
      "Try using .loc[row_indexer,col_indexer] = value instead\n",
      "\n",
      "See the caveats in the documentation: https://pandas.pydata.org/pandas-docs/stable/user_guide/indexing.html#returning-a-view-versus-a-copy\n",
      "  self[name] = value\n"
     ]
    },
    {
     "data": {
      "text/html": [
       "<div>\n",
       "<style scoped>\n",
       "    .dataframe tbody tr th:only-of-type {\n",
       "        vertical-align: middle;\n",
       "    }\n",
       "\n",
       "    .dataframe tbody tr th {\n",
       "        vertical-align: top;\n",
       "    }\n",
       "\n",
       "    .dataframe thead th {\n",
       "        text-align: right;\n",
       "    }\n",
       "</style>\n",
       "<table border=\"1\" class=\"dataframe\">\n",
       "  <thead>\n",
       "    <tr style=\"text-align: right;\">\n",
       "      <th></th>\n",
       "      <th>movieId</th>\n",
       "      <th>title</th>\n",
       "      <th>genres</th>\n",
       "    </tr>\n",
       "  </thead>\n",
       "  <tbody>\n",
       "    <tr>\n",
       "      <th>0</th>\n",
       "      <td>1</td>\n",
       "      <td>Toy Story (1995)</td>\n",
       "      <td>Adventure|Animation|Children|Comedy|Fantasy</td>\n",
       "    </tr>\n",
       "    <tr>\n",
       "      <th>1</th>\n",
       "      <td>2</td>\n",
       "      <td>Jumanji (1995)</td>\n",
       "      <td>Adventure|Children|Fantasy</td>\n",
       "    </tr>\n",
       "    <tr>\n",
       "      <th>2</th>\n",
       "      <td>3</td>\n",
       "      <td>Grumpier Old Men (1995)</td>\n",
       "      <td>Comedy|Romance</td>\n",
       "    </tr>\n",
       "    <tr>\n",
       "      <th>3</th>\n",
       "      <td>4</td>\n",
       "      <td>Waiting to Exhale (1995)</td>\n",
       "      <td>Comedy|Drama|Romance</td>\n",
       "    </tr>\n",
       "    <tr>\n",
       "      <th>4</th>\n",
       "      <td>5</td>\n",
       "      <td>Father of the Bride Part II (1995)</td>\n",
       "      <td>Comedy</td>\n",
       "    </tr>\n",
       "    <tr>\n",
       "      <th>...</th>\n",
       "      <td>...</td>\n",
       "      <td>...</td>\n",
       "      <td>...</td>\n",
       "    </tr>\n",
       "    <tr>\n",
       "      <th>25253</th>\n",
       "      <td>10469</td>\n",
       "      <td>The Interview (2014)</td>\n",
       "      <td>Action|Comedy</td>\n",
       "    </tr>\n",
       "    <tr>\n",
       "      <th>25254</th>\n",
       "      <td>10470</td>\n",
       "      <td>Kingsman: The Secret Service (2015)</td>\n",
       "      <td>Action|Adventure|Comedy|Crime</td>\n",
       "    </tr>\n",
       "    <tr>\n",
       "      <th>25258</th>\n",
       "      <td>10471</td>\n",
       "      <td>Night at the Museum: Secret of the Tomb (2014)</td>\n",
       "      <td>Adventure|Children|Comedy|Fantasy</td>\n",
       "    </tr>\n",
       "    <tr>\n",
       "      <th>25490</th>\n",
       "      <td>10472</td>\n",
       "      <td>Taken 3 (2015)</td>\n",
       "      <td>Action|Crime|Thriller</td>\n",
       "    </tr>\n",
       "    <tr>\n",
       "      <th>26159</th>\n",
       "      <td>10473</td>\n",
       "      <td>Fifty Shades of Grey (2015)</td>\n",
       "      <td>Drama</td>\n",
       "    </tr>\n",
       "  </tbody>\n",
       "</table>\n",
       "<p>10473 rows × 3 columns</p>\n",
       "</div>"
      ],
      "text/plain": [
       "       movieId                                           title  \\\n",
       "0            1                                Toy Story (1995)   \n",
       "1            2                                  Jumanji (1995)   \n",
       "2            3                         Grumpier Old Men (1995)   \n",
       "3            4                        Waiting to Exhale (1995)   \n",
       "4            5              Father of the Bride Part II (1995)   \n",
       "...        ...                                             ...   \n",
       "25253    10469                            The Interview (2014)   \n",
       "25254    10470             Kingsman: The Secret Service (2015)   \n",
       "25258    10471  Night at the Museum: Secret of the Tomb (2014)   \n",
       "25490    10472                                  Taken 3 (2015)   \n",
       "26159    10473                     Fifty Shades of Grey (2015)   \n",
       "\n",
       "                                            genres  \n",
       "0      Adventure|Animation|Children|Comedy|Fantasy  \n",
       "1                       Adventure|Children|Fantasy  \n",
       "2                                   Comedy|Romance  \n",
       "3                             Comedy|Drama|Romance  \n",
       "4                                           Comedy  \n",
       "...                                            ...  \n",
       "25253                                Action|Comedy  \n",
       "25254                Action|Adventure|Comedy|Crime  \n",
       "25258            Adventure|Children|Comedy|Fantasy  \n",
       "25490                        Action|Crime|Thriller  \n",
       "26159                                        Drama  \n",
       "\n",
       "[10473 rows x 3 columns]"
      ]
     },
     "execution_count": 23,
     "metadata": {},
     "output_type": "execute_result"
    }
   ],
   "source": [
    "mv = mv.loc[mv.movieId.isin(list(id2pos.keys()))]\n",
    "mv.movieId = mv.movieId.apply(lambda x: id2pos[x])\n",
    "mv"
   ]
  },
  {
   "cell_type": "markdown",
   "id": "d58ce3a0",
   "metadata": {},
   "source": [
    "Создадим словарь соответствия уникальных жанров с их порядковым номером"
   ]
  },
  {
   "cell_type": "code",
   "execution_count": 24,
   "id": "0cf432ad",
   "metadata": {},
   "outputs": [
    {
     "data": {
      "text/plain": [
       "{'Fantasy': 0,\n",
       " 'Sci-Fi': 1,\n",
       " 'Mystery': 2,\n",
       " 'War': 3,\n",
       " 'Animation': 4,\n",
       " 'Musical': 5,\n",
       " 'Children': 6,\n",
       " 'Crime': 7,\n",
       " 'Western': 8,\n",
       " 'Documentary': 9,\n",
       " 'Comedy': 10,\n",
       " 'Thriller': 11,\n",
       " 'Drama': 12,\n",
       " 'Romance': 13,\n",
       " 'Adventure': 14,\n",
       " 'Horror': 15,\n",
       " 'IMAX': 16,\n",
       " 'Film-Noir': 17,\n",
       " 'Action': 18}"
      ]
     },
     "execution_count": 24,
     "metadata": {},
     "output_type": "execute_result"
    }
   ],
   "source": [
    "genre_set = set([x for genre in mv.genres.unique() for x in genre.split(\"|\")])\n",
    "genre_dict = {genr: i for i, genr in zip(range(len(genre_set)), genre_set)}\n",
    "genre_dict"
   ]
  },
  {
   "cell_type": "markdown",
   "id": "450ddac6",
   "metadata": {},
   "source": [
    "Выгрузим данные о жанре для каждого фильма"
   ]
  },
  {
   "cell_type": "code",
   "execution_count": 25,
   "id": "9565b8b2",
   "metadata": {},
   "outputs": [
    {
     "data": {
      "text/plain": [
       "array([list(['Adventure', 'Animation', 'Children', 'Comedy', 'Fantasy']),\n",
       "       list(['Adventure', 'Children', 'Fantasy']),\n",
       "       list(['Comedy', 'Romance']), ...,\n",
       "       list(['Adventure', 'Children', 'Comedy', 'Fantasy']),\n",
       "       list(['Action', 'Crime', 'Thriller']), list(['Drama'])],\n",
       "      dtype=object)"
      ]
     },
     "execution_count": 25,
     "metadata": {},
     "output_type": "execute_result"
    }
   ],
   "source": [
    "genres = mv.genres.apply(lambda x: x.split(\"|\")).values\n",
    "genres"
   ]
  },
  {
   "cell_type": "markdown",
   "id": "f382a742",
   "metadata": {},
   "source": [
    "Закодируем данные о жанрах в векторном представлении"
   ]
  },
  {
   "cell_type": "code",
   "execution_count": 26,
   "id": "edf8cbd1",
   "metadata": {},
   "outputs": [],
   "source": [
    "def to_encoded(g_list, g_dict):\n",
    "    a = np.full(shape=len(g_dict), fill_value=0, dtype=np.float32)\n",
    "    a[list(map(lambda x:g_dict[x], g_list))] = 1\n",
    "    return a"
   ]
  },
  {
   "cell_type": "code",
   "execution_count": 27,
   "id": "e7ce2615",
   "metadata": {},
   "outputs": [
    {
     "data": {
      "text/plain": [
       "array([[1., 0., 0., ..., 0., 0., 0.],\n",
       "       [1., 0., 0., ..., 0., 0., 0.],\n",
       "       [0., 0., 0., ..., 0., 0., 0.],\n",
       "       ...,\n",
       "       [1., 0., 0., ..., 0., 0., 0.],\n",
       "       [0., 0., 0., ..., 0., 0., 1.],\n",
       "       [0., 0., 0., ..., 0., 0., 0.]], dtype=float32)"
      ]
     },
     "execution_count": 27,
     "metadata": {},
     "output_type": "execute_result"
    }
   ],
   "source": [
    "g_encoded = np.array([to_encoded(x, genre_dict) for x in genres])\n",
    "g_encoded"
   ]
  },
  {
   "cell_type": "markdown",
   "id": "43294899",
   "metadata": {},
   "source": [
    "Проверим размерность"
   ]
  },
  {
   "cell_type": "code",
   "execution_count": 28,
   "id": "62685854",
   "metadata": {},
   "outputs": [
    {
     "data": {
      "text/plain": [
       "(10473, 19)"
      ]
     },
     "execution_count": 28,
     "metadata": {},
     "output_type": "execute_result"
    }
   ],
   "source": [
    "g_encoded.shape"
   ]
  },
  {
   "cell_type": "markdown",
   "id": "bad62179",
   "metadata": {},
   "source": [
    "Все сходится.  \n",
    "Представим получившуюся матрицу в sparse формате"
   ]
  },
  {
   "cell_type": "code",
   "execution_count": 29,
   "id": "cbade38c",
   "metadata": {},
   "outputs": [],
   "source": [
    "from scipy.sparse import csr_matrix\n",
    "import scipy.sparse.linalg"
   ]
  },
  {
   "cell_type": "code",
   "execution_count": 30,
   "id": "08a3b4f1",
   "metadata": {},
   "outputs": [],
   "source": [
    "g_encoded = csr_matrix(g_encoded)"
   ]
  },
  {
   "cell_type": "markdown",
   "id": "844db887",
   "metadata": {},
   "source": [
    "## 4.2. Информация о тэгах"
   ]
  },
  {
   "cell_type": "markdown",
   "id": "1613b368",
   "metadata": {},
   "source": [
    "### 4.2.1. Анализ таблицы"
   ]
  },
  {
   "cell_type": "markdown",
   "id": "83334cbb",
   "metadata": {},
   "source": [
    "В исходном датасете также содержится информация о тэгах, относящихся к ряду фильмов. Этой информацией также можно воспользоваться во время обучения "
   ]
  },
  {
   "cell_type": "code",
   "execution_count": 31,
   "id": "d7b6b995",
   "metadata": {},
   "outputs": [
    {
     "data": {
      "text/html": [
       "<div>\n",
       "<style scoped>\n",
       "    .dataframe tbody tr th:only-of-type {\n",
       "        vertical-align: middle;\n",
       "    }\n",
       "\n",
       "    .dataframe tbody tr th {\n",
       "        vertical-align: top;\n",
       "    }\n",
       "\n",
       "    .dataframe thead th {\n",
       "        text-align: right;\n",
       "    }\n",
       "</style>\n",
       "<table border=\"1\" class=\"dataframe\">\n",
       "  <thead>\n",
       "    <tr style=\"text-align: right;\">\n",
       "      <th></th>\n",
       "      <th>movieId</th>\n",
       "      <th>tagId</th>\n",
       "      <th>relevance</th>\n",
       "    </tr>\n",
       "  </thead>\n",
       "  <tbody>\n",
       "    <tr>\n",
       "      <th>0</th>\n",
       "      <td>1</td>\n",
       "      <td>1</td>\n",
       "      <td>0.02500</td>\n",
       "    </tr>\n",
       "    <tr>\n",
       "      <th>1</th>\n",
       "      <td>1</td>\n",
       "      <td>2</td>\n",
       "      <td>0.02500</td>\n",
       "    </tr>\n",
       "    <tr>\n",
       "      <th>2</th>\n",
       "      <td>1</td>\n",
       "      <td>3</td>\n",
       "      <td>0.05775</td>\n",
       "    </tr>\n",
       "    <tr>\n",
       "      <th>3</th>\n",
       "      <td>1</td>\n",
       "      <td>4</td>\n",
       "      <td>0.09675</td>\n",
       "    </tr>\n",
       "    <tr>\n",
       "      <th>4</th>\n",
       "      <td>1</td>\n",
       "      <td>5</td>\n",
       "      <td>0.14675</td>\n",
       "    </tr>\n",
       "  </tbody>\n",
       "</table>\n",
       "</div>"
      ],
      "text/plain": [
       "   movieId  tagId  relevance\n",
       "0        1      1    0.02500\n",
       "1        1      2    0.02500\n",
       "2        1      3    0.05775\n",
       "3        1      4    0.09675\n",
       "4        1      5    0.14675"
      ]
     },
     "execution_count": 31,
     "metadata": {},
     "output_type": "execute_result"
    }
   ],
   "source": [
    "gs = pd.read_csv(\"archive/genome_scores.csv\")\n",
    "gs.head()"
   ]
  },
  {
   "cell_type": "code",
   "execution_count": 32,
   "id": "179547f8",
   "metadata": {},
   "outputs": [
    {
     "data": {
      "text/plain": [
       "(11709768, 3)"
      ]
     },
     "execution_count": 32,
     "metadata": {},
     "output_type": "execute_result"
    }
   ],
   "source": [
    "gs.shape"
   ]
  },
  {
   "cell_type": "code",
   "execution_count": 33,
   "id": "f64542fd",
   "metadata": {},
   "outputs": [
    {
     "data": {
      "text/plain": [
       "10381"
      ]
     },
     "execution_count": 33,
     "metadata": {},
     "output_type": "execute_result"
    }
   ],
   "source": [
    "gs.movieId.nunique()"
   ]
  },
  {
   "cell_type": "markdown",
   "id": "aec808b0",
   "metadata": {},
   "source": [
    "Необходимо создать матрицу размерностью (n_movies, n_tags) где в ячейках будет содержаться информация о релевантности "
   ]
  },
  {
   "cell_type": "markdown",
   "id": "54e01a2f",
   "metadata": {},
   "source": [
    "Снова переведем исходные movieId в корректный формат с помощью словаря"
   ]
  },
  {
   "cell_type": "code",
   "execution_count": 34,
   "id": "8450aa74",
   "metadata": {
    "scrolled": false
   },
   "outputs": [
    {
     "data": {
      "text/html": [
       "<div>\n",
       "<style scoped>\n",
       "    .dataframe tbody tr th:only-of-type {\n",
       "        vertical-align: middle;\n",
       "    }\n",
       "\n",
       "    .dataframe tbody tr th {\n",
       "        vertical-align: top;\n",
       "    }\n",
       "\n",
       "    .dataframe thead th {\n",
       "        text-align: right;\n",
       "    }\n",
       "</style>\n",
       "<table border=\"1\" class=\"dataframe\">\n",
       "  <thead>\n",
       "    <tr style=\"text-align: right;\">\n",
       "      <th></th>\n",
       "      <th>movieId</th>\n",
       "      <th>tagId</th>\n",
       "      <th>relevance</th>\n",
       "    </tr>\n",
       "  </thead>\n",
       "  <tbody>\n",
       "    <tr>\n",
       "      <th>0</th>\n",
       "      <td>1</td>\n",
       "      <td>1</td>\n",
       "      <td>0.02500</td>\n",
       "    </tr>\n",
       "    <tr>\n",
       "      <th>1</th>\n",
       "      <td>1</td>\n",
       "      <td>2</td>\n",
       "      <td>0.02500</td>\n",
       "    </tr>\n",
       "    <tr>\n",
       "      <th>2</th>\n",
       "      <td>1</td>\n",
       "      <td>3</td>\n",
       "      <td>0.05775</td>\n",
       "    </tr>\n",
       "    <tr>\n",
       "      <th>3</th>\n",
       "      <td>1</td>\n",
       "      <td>4</td>\n",
       "      <td>0.09675</td>\n",
       "    </tr>\n",
       "    <tr>\n",
       "      <th>4</th>\n",
       "      <td>1</td>\n",
       "      <td>5</td>\n",
       "      <td>0.14675</td>\n",
       "    </tr>\n",
       "  </tbody>\n",
       "</table>\n",
       "</div>"
      ],
      "text/plain": [
       "   movieId  tagId  relevance\n",
       "0        1      1    0.02500\n",
       "1        1      2    0.02500\n",
       "2        1      3    0.05775\n",
       "3        1      4    0.09675\n",
       "4        1      5    0.14675"
      ]
     },
     "execution_count": 34,
     "metadata": {},
     "output_type": "execute_result"
    }
   ],
   "source": [
    "gs = gs.loc[gs.movieId.isin(list(id2pos.keys()))]\n",
    "gs.movieId = gs.movieId.apply(lambda x: id2pos[x])\n",
    "gs.head()"
   ]
  },
  {
   "cell_type": "markdown",
   "id": "c9d2aa18",
   "metadata": {},
   "source": [
    "Проверим, сколько фильмов имеют информацию о тэгах"
   ]
  },
  {
   "cell_type": "code",
   "execution_count": 35,
   "id": "83a10ea0",
   "metadata": {
    "scrolled": true
   },
   "outputs": [
    {
     "data": {
      "text/plain": [
       "9931"
      ]
     },
     "execution_count": 35,
     "metadata": {},
     "output_type": "execute_result"
    }
   ],
   "source": [
    "gs.movieId.nunique()"
   ]
  },
  {
   "cell_type": "markdown",
   "id": "f9b26a9a",
   "metadata": {},
   "source": [
    "К сожалению, не все фильмы содержат эту информацию, но это не помешает нам при составлении матрицы"
   ]
  },
  {
   "cell_type": "markdown",
   "id": "e920215d",
   "metadata": {},
   "source": [
    "### 4.2.2. Анализ важности тэгов"
   ]
  },
  {
   "cell_type": "markdown",
   "id": "3a670391",
   "metadata": {},
   "source": [
    "Необходимо проверить, какие тэги используются чаще всего, чтобы не учитывать нерелевантные "
   ]
  },
  {
   "cell_type": "code",
   "execution_count": 36,
   "id": "8c1c8986",
   "metadata": {},
   "outputs": [
    {
     "data": {
      "text/plain": [
       "count    1128.000000\n",
       "mean     1157.544202\n",
       "std       925.176819\n",
       "min        42.028250\n",
       "25%       467.313687\n",
       "50%       864.967500\n",
       "75%      1571.133125\n",
       "max      7255.427000\n",
       "Name: relevance, dtype: float64"
      ]
     },
     "execution_count": 36,
     "metadata": {},
     "output_type": "execute_result"
    }
   ],
   "source": [
    "gs.groupby(\"tagId\").relevance.sum().sort_values().describe()"
   ]
  },
  {
   "cell_type": "code",
   "execution_count": 37,
   "id": "b93dbfe7",
   "metadata": {
    "scrolled": true
   },
   "outputs": [
    {
     "data": {
      "text/plain": [
       "[<matplotlib.lines.Line2D at 0x1c01a338108>]"
      ]
     },
     "execution_count": 37,
     "metadata": {},
     "output_type": "execute_result"
    },
    {
     "data": {
      "image/png": "[encoded data removed]",
      "text/plain": [
       "<Figure size 432x288 with 1 Axes>"
      ]
     },
     "metadata": {
      "needs_background": "light"
     },
     "output_type": "display_data"
    }
   ],
   "source": [
    "plt.plot(gs.groupby(\"tagId\").relevance.sum().sort_values().values)"
   ]
  },
  {
   "cell_type": "markdown",
   "id": "5be62518",
   "metadata": {},
   "source": [
    "Каждому фильму из таблицы соответствует весь перечень доступных тэгов. Уберем те тэги, которые в среднем обладают релевантностью меньше 0.2"
   ]
  },
  {
   "cell_type": "code",
   "execution_count": 38,
   "id": "da1fcc42",
   "metadata": {},
   "outputs": [],
   "source": [
    "relev = gs.groupby(\"tagId\").mean().relevance\n",
    "index = relev.loc[relev<0.2].index.values\n",
    "gs = gs.drop(gs.loc[gs.tagId.isin(index)].index, axis=0)"
   ]
  },
  {
   "cell_type": "code",
   "execution_count": 39,
   "id": "ed38726a",
   "metadata": {},
   "outputs": [],
   "source": [
    "tags = gs.tagId.unique()"
   ]
  },
  {
   "cell_type": "markdown",
   "id": "fbc33f9b",
   "metadata": {},
   "source": [
    "Переназначим номера тэгов"
   ]
  },
  {
   "cell_type": "code",
   "execution_count": 40,
   "id": "b94800e5",
   "metadata": {},
   "outputs": [],
   "source": [
    "t_pos2id = {i+1:pos for i,pos in zip(range(len(tags)), tags)}\n",
    "t_id2pos = {pos:i+1 for i,pos in zip(range(len(tags)), tags)}"
   ]
  },
  {
   "cell_type": "code",
   "execution_count": 41,
   "id": "ecfa2da6",
   "metadata": {},
   "outputs": [],
   "source": [
    "gs.tagId = gs.tagId.apply(lambda x: t_id2pos[x])"
   ]
  },
  {
   "cell_type": "markdown",
   "id": "28d4a9a8",
   "metadata": {},
   "source": [
    "Создадим sparse матрицу тэгов в векторном представлении"
   ]
  },
  {
   "cell_type": "code",
   "execution_count": 42,
   "id": "adc62686",
   "metadata": {},
   "outputs": [
    {
     "data": {
      "text/plain": [
       "(10473, 199)"
      ]
     },
     "execution_count": 42,
     "metadata": {},
     "output_type": "execute_result"
    }
   ],
   "source": [
    "t_matrix = np.zeros(shape=(np.max(gs.movieId.values), np.max(gs.tagId.values)), dtype=np.float32)\n",
    "t_matrix[gs.movieId.values-1, gs.tagId.values-1] = gs.relevance.values\n",
    "t_matrix.shape"
   ]
  },
  {
   "cell_type": "code",
   "execution_count": 43,
   "id": "f1d11d2c",
   "metadata": {},
   "outputs": [],
   "source": [
    "t_encoded = csr_matrix(t_matrix, dtype=np.float32)"
   ]
  },
  {
   "cell_type": "markdown",
   "id": "808ccca1",
   "metadata": {},
   "source": [
    "Готово. Теперь добавим в эту матрицу  информацию о жанрах"
   ]
  },
  {
   "cell_type": "code",
   "execution_count": 44,
   "id": "4c86f57b",
   "metadata": {},
   "outputs": [],
   "source": [
    "g_t_encoded = np.concatenate((t_matrix, g_encoded.toarray()), axis=1)"
   ]
  },
  {
   "cell_type": "markdown",
   "id": "f8fbb554",
   "metadata": {},
   "source": [
    "И преобразуем в sparse"
   ]
  },
  {
   "cell_type": "code",
   "execution_count": 45,
   "id": "6a3c86d6",
   "metadata": {},
   "outputs": [],
   "source": [
    "g_t_encoded = csr_matrix(g_t_encoded, dtype=np.float32)"
   ]
  },
  {
   "cell_type": "markdown",
   "id": "3f7e3a58",
   "metadata": {},
   "source": [
    "# 5. Подготовка данных к обучению и тестированию"
   ]
  },
  {
   "cell_type": "markdown",
   "id": "bc121daa",
   "metadata": {},
   "source": [
    "Для обучения и тестирования моделей над необходимо подготовить данные из датафреймов, создав матрицы пользователь-фильм (матрицы предпочтения), а также списки фильмов и их рейтингов для оценки точности и сходимости SVD и Implicit-ALS алгоритмов."
   ]
  },
  {
   "cell_type": "markdown",
   "id": "33ea0096",
   "metadata": {},
   "source": [
    "## 5.1. Списки фильмов и оценок"
   ]
  },
  {
   "cell_type": "markdown",
   "id": "967c52dd",
   "metadata": {},
   "source": [
    "Преобразуем обучающий и тестовый датафреймы в списки фильмов и соответствующие им оценки пользователей"
   ]
  },
  {
   "cell_type": "code",
   "execution_count": 46,
   "id": "86aac0ca",
   "metadata": {},
   "outputs": [
    {
     "data": {
      "text/html": [
       "<div>\n",
       "<style scoped>\n",
       "    .dataframe tbody tr th:only-of-type {\n",
       "        vertical-align: middle;\n",
       "    }\n",
       "\n",
       "    .dataframe tbody tr th {\n",
       "        vertical-align: top;\n",
       "    }\n",
       "\n",
       "    .dataframe thead th {\n",
       "        text-align: right;\n",
       "    }\n",
       "</style>\n",
       "<table border=\"1\" class=\"dataframe\">\n",
       "  <thead>\n",
       "    <tr style=\"text-align: right;\">\n",
       "      <th></th>\n",
       "    </tr>\n",
       "  </thead>\n",
       "  <tbody>\n",
       "  </tbody>\n",
       "</table>\n",
       "</div>"
      ],
      "text/plain": [
       "Empty DataFrame\n",
       "Columns: []\n",
       "Index: []"
      ]
     },
     "execution_count": 46,
     "metadata": {},
     "output_type": "execute_result"
    }
   ],
   "source": [
    "train_movies = []\n",
    "train_df.groupby(\"userId\").apply(lambda x: train_movies.append(x.movieId.values))\n",
    "train_true_ratings = []\n",
    "train_df.groupby(\"userId\").apply(lambda x: train_true_ratings.append(x.rating.values))"
   ]
  },
  {
   "cell_type": "code",
   "execution_count": 47,
   "id": "31ac9418",
   "metadata": {},
   "outputs": [
    {
     "data": {
      "text/html": [
       "<div>\n",
       "<style scoped>\n",
       "    .dataframe tbody tr th:only-of-type {\n",
       "        vertical-align: middle;\n",
       "    }\n",
       "\n",
       "    .dataframe tbody tr th {\n",
       "        vertical-align: top;\n",
       "    }\n",
       "\n",
       "    .dataframe thead th {\n",
       "        text-align: right;\n",
       "    }\n",
       "</style>\n",
       "<table border=\"1\" class=\"dataframe\">\n",
       "  <thead>\n",
       "    <tr style=\"text-align: right;\">\n",
       "      <th></th>\n",
       "    </tr>\n",
       "  </thead>\n",
       "  <tbody>\n",
       "  </tbody>\n",
       "</table>\n",
       "</div>"
      ],
      "text/plain": [
       "Empty DataFrame\n",
       "Columns: []\n",
       "Index: []"
      ]
     },
     "execution_count": 47,
     "metadata": {},
     "output_type": "execute_result"
    }
   ],
   "source": [
    "test_movies = []\n",
    "test_df.groupby(\"userId\").apply(lambda x: test_movies.append(x.movieId.values))\n",
    "test_true_ratings = []\n",
    "test_df.groupby(\"userId\").apply(lambda x: test_true_ratings.append(x.rating.values))"
   ]
  },
  {
   "cell_type": "markdown",
   "id": "declared-analyst",
   "metadata": {},
   "source": [
    "## 5.2. Матрицы предпочтений"
   ]
  },
  {
   "cell_type": "markdown",
   "id": "proper-affiliate",
   "metadata": {},
   "source": [
    "Создание матриц предпочтений - операция относительно быстрая, но затратная с точки зрения оперативной памяти.  \n",
    "Так как мне надоело смотреть в неподвижный экран своего зависшего компьютера, напишем метод, который сможет загружать сохраненные в sparse формате матрицы с диска, если они уже были сохранены."
   ]
  },
  {
   "cell_type": "code",
   "execution_count": 48,
   "id": "ffa32cf2",
   "metadata": {},
   "outputs": [],
   "source": [
    "import gc\n",
    "\n",
    "def create_sparse(df, name, path=\"data/\", ext=\".npz\", force=False):\n",
    "    \"\"\"\n",
    "    Данный метод создает sparse матрицу для таблицы из user-item-rating таблицы\n",
    "    \"\"\"\n",
    "    if name+ext in os.listdir(path):\n",
    "        return scipy.sparse.load_npz(path+name+ext)\n",
    "    else:\n",
    "        r_matrix = np.empty(shape=(np.max(train_df.userId.values), np.max(train_df.movieId.values)), dtype=np.float32)\n",
    "        r_matrix[df.userId.values-1, df.movieId.values-1] = df.rating.values\n",
    "        r_matrix = csr_matrix(r_matrix, dtype=np.float32)\n",
    "        gc.collect()\n",
    "        scipy.sparse.save_npz(path + name, r_matrix, compressed=True)\n",
    "        return r_matrix"
   ]
  },
  {
   "cell_type": "code",
   "execution_count": 49,
   "id": "18d23ddf",
   "metadata": {},
   "outputs": [],
   "source": [
    "train_sparse = create_sparse(train_df, \"train\")\n",
    "test_sparse = create_sparse(test_df, \"test\")"
   ]
  },
  {
   "cell_type": "code",
   "execution_count": 50,
   "id": "9a7850d4",
   "metadata": {},
   "outputs": [],
   "source": [
    "del rating_df\n",
    "del train_df\n",
    "del test_df"
   ]
  },
  {
   "cell_type": "markdown",
   "id": "b1560faa",
   "metadata": {},
   "source": [
    "# 6. Тестирование подходов"
   ]
  },
  {
   "cell_type": "markdown",
   "id": "68112731",
   "metadata": {},
   "source": [
    "Для оценки важности выбора гиперпараметров при обучении моделей будем использовать алгоритм GridSearch - то есть проводить обучение для каждого возможного набора гиперпараметров. "
   ]
  },
  {
   "cell_type": "markdown",
   "id": "b5cc42f9",
   "metadata": {},
   "source": [
    "## 6.1. Коллаборативный подход "
   ]
  },
  {
   "cell_type": "markdown",
   "id": "ffba5f6a",
   "metadata": {},
   "source": [
    "### 6.1.1. SVG"
   ]
  },
  {
   "cell_type": "markdown",
   "id": "a1b26e4c",
   "metadata": {},
   "source": [
    "Для сингулярного разложения матриц будем проводить тестирование с изменением размерности **k** матрицы **S**. Проверку на сходимость будем проводить для каждого значения **k**"
   ]
  },
  {
   "cell_type": "markdown",
   "id": "61926c79",
   "metadata": {},
   "source": [
    "Зададим список значений **k**"
   ]
  },
  {
   "cell_type": "code",
   "execution_count": 50,
   "id": "59c8ce4f",
   "metadata": {},
   "outputs": [],
   "source": [
    "ks = [2, 3, 5, 10, 15, 20, 25, 50, 100, 200]"
   ]
  },
  {
   "cell_type": "code",
   "execution_count": 51,
   "id": "c68677df",
   "metadata": {},
   "outputs": [],
   "source": [
    "def get_auc_svd(matrix, movies, true_ratings):\n",
    "    \"\"\"\n",
    "    Данный метод считает метрику AUC для SVD модели\n",
    "    \"\"\"\n",
    "    # Предсказанные оценки для фильмов\n",
    "    it = (i for i in range(len(movies)))\n",
    "    pred_ratings = [matrix[next(it)][x-1] for x in movies]\n",
    "    pred_ratings = np.array([x for ar in pred_ratings for x in ar])\n",
    "    # Нормализуем от 0 до 1\n",
    "    pred_ratings = (pred_ratings - pred_ratings.min())/(pred_ratings.max()-pred_ratings.min())\n",
    "    \n",
    "    true_ratings = np.array([x for ar in true_ratings for x in ar])>=0\n",
    "    \n",
    "    return roc_auc_score(true_ratings, pred_ratings)"
   ]
  },
  {
   "cell_type": "code",
   "execution_count": 52,
   "id": "distinct-engagement",
   "metadata": {
    "scrolled": true
   },
   "outputs": [
    {
     "name": "stdout",
     "output_type": "stream",
     "text": [
      "Тест №1\tk=2\n",
      "Train AUC:\t0.77549\n",
      "Test AUC:\t0.72001\n",
      "Тест №2\tk=3\n",
      "Train AUC:\t0.78580\n",
      "Test AUC:\t0.72762\n",
      "Тест №3\tk=5\n",
      "Train AUC:\t0.79377\n",
      "Test AUC:\t0.72562\n",
      "Тест №4\tk=10\n",
      "Train AUC:\t0.81274\n",
      "Test AUC:\t0.73109\n",
      "Тест №5\tk=15\n",
      "Train AUC:\t0.82456\n",
      "Test AUC:\t0.73182\n",
      "Тест №6\tk=20\n",
      "Train AUC:\t0.83397\n",
      "Test AUC:\t0.73019\n",
      "Тест №7\tk=25\n",
      "Train AUC:\t0.84099\n",
      "Test AUC:\t0.72781\n",
      "Тест №8\tk=50\n",
      "Train AUC:\t0.86506\n",
      "Test AUC:\t0.71695\n",
      "Тест №9\tk=100\n",
      "Train AUC:\t0.89543\n",
      "Test AUC:\t0.70144\n",
      "Тест №10\tk=200\n",
      "Train AUC:\t0.92902\n",
      "Test AUC:\t0.68318\n"
     ]
    }
   ],
   "source": [
    "results_svd = pd.DataFrame(columns=[\"k\",\"trainAUC\", \"testAUC\"])\n",
    "\n",
    "for i, k in enumerate(ks):\n",
    "    print(f\"Тест №{(i+1)}\\tk={k}\")\n",
    "    # SVD\n",
    "    U, S, V = scipy.sparse.linalg.svds(train_sparse, k=k)\n",
    "    Us = U.dot(np.diag(S))\n",
    "    # SVD predictions\n",
    "    matrix_pr = np.dot(Us, V).astype(np.float16)\n",
    "    \n",
    "    # Точность на обучающем наборе\n",
    "    train_auc = get_auc_svd(matrix_pr, train_movies, train_true_ratings)\n",
    "    print(f\"Train AUC:\\t{train_auc:.5f}\")\n",
    "    \n",
    "    # Точность на тестовом наборе\n",
    "    test_auc = get_auc_svd(matrix_pr, test_movies, test_true_ratings)\n",
    "    print(f\"Test AUC:\\t{test_auc:.5f}\")\n",
    "    \n",
    "    results_svd.loc[i] = (k, train_auc, test_auc)"
   ]
  },
  {
   "cell_type": "code",
   "execution_count": 53,
   "id": "162cfc2d",
   "metadata": {},
   "outputs": [
    {
     "data": {
      "text/html": [
       "<div>\n",
       "<style scoped>\n",
       "    .dataframe tbody tr th:only-of-type {\n",
       "        vertical-align: middle;\n",
       "    }\n",
       "\n",
       "    .dataframe tbody tr th {\n",
       "        vertical-align: top;\n",
       "    }\n",
       "\n",
       "    .dataframe thead th {\n",
       "        text-align: right;\n",
       "    }\n",
       "</style>\n",
       "<table border=\"1\" class=\"dataframe\">\n",
       "  <thead>\n",
       "    <tr style=\"text-align: right;\">\n",
       "      <th></th>\n",
       "      <th>k</th>\n",
       "      <th>trainAUC</th>\n",
       "      <th>testAUC</th>\n",
       "    </tr>\n",
       "  </thead>\n",
       "  <tbody>\n",
       "    <tr>\n",
       "      <th>9</th>\n",
       "      <td>200.0</td>\n",
       "      <td>0.929018</td>\n",
       "      <td>0.683183</td>\n",
       "    </tr>\n",
       "    <tr>\n",
       "      <th>8</th>\n",
       "      <td>100.0</td>\n",
       "      <td>0.895430</td>\n",
       "      <td>0.701438</td>\n",
       "    </tr>\n",
       "    <tr>\n",
       "      <th>7</th>\n",
       "      <td>50.0</td>\n",
       "      <td>0.865063</td>\n",
       "      <td>0.716951</td>\n",
       "    </tr>\n",
       "    <tr>\n",
       "      <th>0</th>\n",
       "      <td>2.0</td>\n",
       "      <td>0.775492</td>\n",
       "      <td>0.720009</td>\n",
       "    </tr>\n",
       "    <tr>\n",
       "      <th>2</th>\n",
       "      <td>5.0</td>\n",
       "      <td>0.793765</td>\n",
       "      <td>0.725618</td>\n",
       "    </tr>\n",
       "    <tr>\n",
       "      <th>1</th>\n",
       "      <td>3.0</td>\n",
       "      <td>0.785802</td>\n",
       "      <td>0.727621</td>\n",
       "    </tr>\n",
       "    <tr>\n",
       "      <th>6</th>\n",
       "      <td>25.0</td>\n",
       "      <td>0.840989</td>\n",
       "      <td>0.727814</td>\n",
       "    </tr>\n",
       "    <tr>\n",
       "      <th>5</th>\n",
       "      <td>20.0</td>\n",
       "      <td>0.833971</td>\n",
       "      <td>0.730191</td>\n",
       "    </tr>\n",
       "    <tr>\n",
       "      <th>3</th>\n",
       "      <td>10.0</td>\n",
       "      <td>0.812742</td>\n",
       "      <td>0.731088</td>\n",
       "    </tr>\n",
       "    <tr>\n",
       "      <th>4</th>\n",
       "      <td>15.0</td>\n",
       "      <td>0.824560</td>\n",
       "      <td>0.731816</td>\n",
       "    </tr>\n",
       "  </tbody>\n",
       "</table>\n",
       "</div>"
      ],
      "text/plain": [
       "       k  trainAUC   testAUC\n",
       "9  200.0  0.929018  0.683183\n",
       "8  100.0  0.895430  0.701438\n",
       "7   50.0  0.865063  0.716951\n",
       "0    2.0  0.775492  0.720009\n",
       "2    5.0  0.793765  0.725618\n",
       "1    3.0  0.785802  0.727621\n",
       "6   25.0  0.840989  0.727814\n",
       "5   20.0  0.833971  0.730191\n",
       "3   10.0  0.812742  0.731088\n",
       "4   15.0  0.824560  0.731816"
      ]
     },
     "execution_count": 53,
     "metadata": {},
     "output_type": "execute_result"
    }
   ],
   "source": [
    "results_svd.sort_values(\"testAUC\")"
   ]
  },
  {
   "cell_type": "markdown",
   "id": "a656a3af",
   "metadata": {},
   "source": [
    "#### Вывод"
   ]
  },
  {
   "cell_type": "markdown",
   "id": "ae980022",
   "metadata": {},
   "source": [
    "Гиперпараметр k (размерность матрицы S) является ключевым (и единственным) параметром данной системы.  \n",
    "\n",
    "Из полученной таблицы видно, что наибольшая точность - **0.731816** - на тестовом наборе данных наблюдается при значении **k=15**.  \n",
    "\n",
    "При увеличении значения параметра наблюдается сходимость модели, однако тестовая точность падает."
   ]
  },
  {
   "cell_type": "markdown",
   "id": "attached-making",
   "metadata": {},
   "source": [
    "### 6.1.2. Implicit-ALS"
   ]
  },
  {
   "cell_type": "code",
   "execution_count": 50,
   "id": "a2db7862",
   "metadata": {
    "scrolled": true
   },
   "outputs": [],
   "source": [
    "!pip install implicit --quiet\n",
    "import implicit as imp"
   ]
  },
  {
   "cell_type": "code",
   "execution_count": 55,
   "id": "d42ba95c",
   "metadata": {},
   "outputs": [],
   "source": [
    "def get_auc_als(model, data, movies, true_ratings):\n",
    "    \"\"\"\n",
    "    Данный метод считает метрику AUC для ALS модели\n",
    "    \"\"\"\n",
    "    # Предсказываем оценки\n",
    "    pred = [model.rank_items(x, data, movies[x]-1) for x in range(data.shape[0])]\n",
    "    \n",
    "    # Сопоставляем оценки модели с номерами фильмов в movies\n",
    "    pred_dict = [{(i+1):pr for i, pr in u} for u in pred]\n",
    "    pred = np.array([pred_dict[i][x] for i, ar in enumerate(movies) for x in ar])\n",
    "    \n",
    "    # Нормализуем оценки\n",
    "    pred_ratings = (pred - pred.min())/(pred.max()-pred.min())\n",
    "    \n",
    "    true_ratings = np.array([x for ar in true_ratings for x in ar])>=0\n",
    "    \n",
    "    return roc_auc_score(true_ratings, pred_ratings)"
   ]
  },
  {
   "cell_type": "markdown",
   "id": "cf6b3125",
   "metadata": {},
   "source": [
    "Протестирум модель с разными гиперпараметрами. Проверку на сходимость будем проводить для каждого набора параметров"
   ]
  },
  {
   "cell_type": "code",
   "execution_count": 56,
   "id": "a9c05b85",
   "metadata": {},
   "outputs": [],
   "source": [
    "factors = [8,16,32,64]\n",
    "regularizations = [0, 0.01, 0.1]\n",
    "iterations = [10,20,30]"
   ]
  },
  {
   "cell_type": "code",
   "execution_count": 57,
   "id": "282a64af",
   "metadata": {
    "scrolled": true
   },
   "outputs": [
    {
     "name": "stderr",
     "output_type": "stream",
     "text": [
      "WARNING:root:Intel MKL BLAS detected. Its highly recommend to set the environment variable 'export MKL_NUM_THREADS=1' to disable its internal multithreading\n"
     ]
    },
    {
     "name": "stdout",
     "output_type": "stream",
     "text": [
      "Тест №1\tfactors=8\tregularization=0\titerations=10\n"
     ]
    },
    {
     "data": {
      "application/vnd.jupyter.widget-view+json": {
       "model_id": "e54e90cd33b54d65a6740de673ed2500",
       "version_major": 2,
       "version_minor": 0
      },
      "text/plain": [
       "HBox(children=(HTML(value=''), FloatProgress(value=0.0, max=10.0), HTML(value='')))"
      ]
     },
     "metadata": {},
     "output_type": "display_data"
    },
    {
     "name": "stdout",
     "output_type": "stream",
     "text": [
      "\n",
      "Train AUC:\t0.71348\n",
      "Test AUC:\t0.62616\n",
      "Тест №2\tfactors=8\tregularization=0\titerations=20\n"
     ]
    },
    {
     "data": {
      "application/vnd.jupyter.widget-view+json": {
       "model_id": "28e10cd8fc9e4011b6699aa874a540e6",
       "version_major": 2,
       "version_minor": 0
      },
      "text/plain": [
       "HBox(children=(HTML(value=''), FloatProgress(value=0.0, max=20.0), HTML(value='')))"
      ]
     },
     "metadata": {},
     "output_type": "display_data"
    },
    {
     "name": "stdout",
     "output_type": "stream",
     "text": [
      "\n",
      "Train AUC:\t0.71335\n",
      "Test AUC:\t0.62671\n",
      "Тест №3\tfactors=8\tregularization=0\titerations=30\n"
     ]
    },
    {
     "data": {
      "application/vnd.jupyter.widget-view+json": {
       "model_id": "1d4308f4f3044becac074286a71991ee",
       "version_major": 2,
       "version_minor": 0
      },
      "text/plain": [
       "HBox(children=(HTML(value=''), FloatProgress(value=0.0, max=30.0), HTML(value='')))"
      ]
     },
     "metadata": {},
     "output_type": "display_data"
    },
    {
     "name": "stdout",
     "output_type": "stream",
     "text": [
      "\n",
      "Train AUC:\t0.71335\n",
      "Test AUC:\t0.62671\n",
      "Тест №4\tfactors=8\tregularization=0.01\titerations=10\n"
     ]
    },
    {
     "data": {
      "application/vnd.jupyter.widget-view+json": {
       "model_id": "837c9d7f719144d5abf3d0259c957754",
       "version_major": 2,
       "version_minor": 0
      },
      "text/plain": [
       "HBox(children=(HTML(value=''), FloatProgress(value=0.0, max=10.0), HTML(value='')))"
      ]
     },
     "metadata": {},
     "output_type": "display_data"
    },
    {
     "name": "stdout",
     "output_type": "stream",
     "text": [
      "\n",
      "Train AUC:\t0.71337\n",
      "Test AUC:\t0.62642\n",
      "Тест №5\tfactors=8\tregularization=0.01\titerations=20\n"
     ]
    },
    {
     "data": {
      "application/vnd.jupyter.widget-view+json": {
       "model_id": "449d6ddeaec34f36a8ba8757d1b488ea",
       "version_major": 2,
       "version_minor": 0
      },
      "text/plain": [
       "HBox(children=(HTML(value=''), FloatProgress(value=0.0, max=20.0), HTML(value='')))"
      ]
     },
     "metadata": {},
     "output_type": "display_data"
    },
    {
     "name": "stdout",
     "output_type": "stream",
     "text": [
      "\n",
      "Train AUC:\t0.71335\n",
      "Test AUC:\t0.62670\n",
      "Тест №6\tfactors=8\tregularization=0.01\titerations=30\n"
     ]
    },
    {
     "data": {
      "application/vnd.jupyter.widget-view+json": {
       "model_id": "ef55670cf81d4b9cba617749b4bb7208",
       "version_major": 2,
       "version_minor": 0
      },
      "text/plain": [
       "HBox(children=(HTML(value=''), FloatProgress(value=0.0, max=30.0), HTML(value='')))"
      ]
     },
     "metadata": {},
     "output_type": "display_data"
    },
    {
     "name": "stdout",
     "output_type": "stream",
     "text": [
      "\n",
      "Train AUC:\t0.71335\n",
      "Test AUC:\t0.62671\n",
      "Тест №7\tfactors=8\tregularization=0.1\titerations=10\n"
     ]
    },
    {
     "data": {
      "application/vnd.jupyter.widget-view+json": {
       "model_id": "83e33b67ca0740febb83b6b60037b86a",
       "version_major": 2,
       "version_minor": 0
      },
      "text/plain": [
       "HBox(children=(HTML(value=''), FloatProgress(value=0.0, max=10.0), HTML(value='')))"
      ]
     },
     "metadata": {},
     "output_type": "display_data"
    },
    {
     "name": "stdout",
     "output_type": "stream",
     "text": [
      "\n",
      "Train AUC:\t0.71161\n",
      "Test AUC:\t0.62411\n",
      "Тест №8\tfactors=8\tregularization=0.1\titerations=20\n"
     ]
    },
    {
     "data": {
      "application/vnd.jupyter.widget-view+json": {
       "model_id": "73d5b846e47c46e3b64d068d74c704ca",
       "version_major": 2,
       "version_minor": 0
      },
      "text/plain": [
       "HBox(children=(HTML(value=''), FloatProgress(value=0.0, max=20.0), HTML(value='')))"
      ]
     },
     "metadata": {},
     "output_type": "display_data"
    },
    {
     "name": "stdout",
     "output_type": "stream",
     "text": [
      "\n",
      "Train AUC:\t0.71335\n",
      "Test AUC:\t0.62670\n",
      "Тест №9\tfactors=8\tregularization=0.1\titerations=30\n"
     ]
    },
    {
     "data": {
      "application/vnd.jupyter.widget-view+json": {
       "model_id": "1d8870479a1f4adcbc928b9d1a34329c",
       "version_major": 2,
       "version_minor": 0
      },
      "text/plain": [
       "HBox(children=(HTML(value=''), FloatProgress(value=0.0, max=30.0), HTML(value='')))"
      ]
     },
     "metadata": {},
     "output_type": "display_data"
    },
    {
     "name": "stdout",
     "output_type": "stream",
     "text": [
      "\n",
      "Train AUC:\t0.71335\n",
      "Test AUC:\t0.62671\n",
      "Тест №10\tfactors=16\tregularization=0\titerations=10\n"
     ]
    },
    {
     "data": {
      "application/vnd.jupyter.widget-view+json": {
       "model_id": "79f406ddb8a4418fa6f2e1ddc262a3ab",
       "version_major": 2,
       "version_minor": 0
      },
      "text/plain": [
       "HBox(children=(HTML(value=''), FloatProgress(value=0.0, max=10.0), HTML(value='')))"
      ]
     },
     "metadata": {},
     "output_type": "display_data"
    },
    {
     "name": "stdout",
     "output_type": "stream",
     "text": [
      "\n",
      "Train AUC:\t0.73466\n",
      "Test AUC:\t0.62921\n",
      "Тест №11\tfactors=16\tregularization=0\titerations=20\n"
     ]
    },
    {
     "data": {
      "application/vnd.jupyter.widget-view+json": {
       "model_id": "362fbeeed7ca42319c8ea895d642a2ec",
       "version_major": 2,
       "version_minor": 0
      },
      "text/plain": [
       "HBox(children=(HTML(value=''), FloatProgress(value=0.0, max=20.0), HTML(value='')))"
      ]
     },
     "metadata": {},
     "output_type": "display_data"
    },
    {
     "name": "stdout",
     "output_type": "stream",
     "text": [
      "\n",
      "Train AUC:\t0.73595\n",
      "Test AUC:\t0.63156\n",
      "Тест №12\tfactors=16\tregularization=0\titerations=30\n"
     ]
    },
    {
     "data": {
      "application/vnd.jupyter.widget-view+json": {
       "model_id": "414ea5c2592f415f90a995cd828c54f0",
       "version_major": 2,
       "version_minor": 0
      },
      "text/plain": [
       "HBox(children=(HTML(value=''), FloatProgress(value=0.0, max=30.0), HTML(value='')))"
      ]
     },
     "metadata": {},
     "output_type": "display_data"
    },
    {
     "name": "stdout",
     "output_type": "stream",
     "text": [
      "\n",
      "Train AUC:\t0.73548\n",
      "Test AUC:\t0.63112\n",
      "Тест №13\tfactors=16\tregularization=0.01\titerations=10\n"
     ]
    },
    {
     "data": {
      "application/vnd.jupyter.widget-view+json": {
       "model_id": "66d570f17d1e43fd8aa519b198bf0a09",
       "version_major": 2,
       "version_minor": 0
      },
      "text/plain": [
       "HBox(children=(HTML(value=''), FloatProgress(value=0.0, max=10.0), HTML(value='')))"
      ]
     },
     "metadata": {},
     "output_type": "display_data"
    },
    {
     "name": "stdout",
     "output_type": "stream",
     "text": [
      "\n",
      "Train AUC:\t0.73594\n",
      "Test AUC:\t0.63010\n",
      "Тест №14\tfactors=16\tregularization=0.01\titerations=20\n"
     ]
    },
    {
     "data": {
      "application/vnd.jupyter.widget-view+json": {
       "model_id": "edc2ab3bb73e47408bc4e7e160eb09c9",
       "version_major": 2,
       "version_minor": 0
      },
      "text/plain": [
       "HBox(children=(HTML(value=''), FloatProgress(value=0.0, max=20.0), HTML(value='')))"
      ]
     },
     "metadata": {},
     "output_type": "display_data"
    },
    {
     "name": "stdout",
     "output_type": "stream",
     "text": [
      "\n",
      "Train AUC:\t0.73592\n",
      "Test AUC:\t0.63069\n",
      "Тест №15\tfactors=16\tregularization=0.01\titerations=30\n"
     ]
    },
    {
     "data": {
      "application/vnd.jupyter.widget-view+json": {
       "model_id": "c834610103a642c9a65f4ff2fa3f3325",
       "version_major": 2,
       "version_minor": 0
      },
      "text/plain": [
       "HBox(children=(HTML(value=''), FloatProgress(value=0.0, max=30.0), HTML(value='')))"
      ]
     },
     "metadata": {},
     "output_type": "display_data"
    },
    {
     "name": "stdout",
     "output_type": "stream",
     "text": [
      "\n",
      "Train AUC:\t0.73579\n",
      "Test AUC:\t0.63149\n",
      "Тест №16\tfactors=16\tregularization=0.1\titerations=10\n"
     ]
    },
    {
     "data": {
      "application/vnd.jupyter.widget-view+json": {
       "model_id": "f117b4c82df2496f847316410c8955ad",
       "version_major": 2,
       "version_minor": 0
      },
      "text/plain": [
       "HBox(children=(HTML(value=''), FloatProgress(value=0.0, max=10.0), HTML(value='')))"
      ]
     },
     "metadata": {},
     "output_type": "display_data"
    },
    {
     "name": "stdout",
     "output_type": "stream",
     "text": [
      "\n",
      "Train AUC:\t0.73530\n",
      "Test AUC:\t0.63024\n",
      "Тест №17\tfactors=16\tregularization=0.1\titerations=20\n"
     ]
    },
    {
     "data": {
      "application/vnd.jupyter.widget-view+json": {
       "model_id": "82c50a001e4a416fb4c75505fe5c2052",
       "version_major": 2,
       "version_minor": 0
      },
      "text/plain": [
       "HBox(children=(HTML(value=''), FloatProgress(value=0.0, max=20.0), HTML(value='')))"
      ]
     },
     "metadata": {},
     "output_type": "display_data"
    },
    {
     "name": "stdout",
     "output_type": "stream",
     "text": [
      "\n",
      "Train AUC:\t0.73565\n",
      "Test AUC:\t0.63165\n",
      "Тест №18\tfactors=16\tregularization=0.1\titerations=30\n"
     ]
    },
    {
     "data": {
      "application/vnd.jupyter.widget-view+json": {
       "model_id": "b17dc06cef0243958adadda1fa07c65c",
       "version_major": 2,
       "version_minor": 0
      },
      "text/plain": [
       "HBox(children=(HTML(value=''), FloatProgress(value=0.0, max=30.0), HTML(value='')))"
      ]
     },
     "metadata": {},
     "output_type": "display_data"
    },
    {
     "name": "stdout",
     "output_type": "stream",
     "text": [
      "\n",
      "Train AUC:\t0.73558\n",
      "Test AUC:\t0.63137\n",
      "Тест №19\tfactors=32\tregularization=0\titerations=10\n"
     ]
    },
    {
     "data": {
      "application/vnd.jupyter.widget-view+json": {
       "model_id": "5db62a84839f4442a4287e8bb1e91c85",
       "version_major": 2,
       "version_minor": 0
      },
      "text/plain": [
       "HBox(children=(HTML(value=''), FloatProgress(value=0.0, max=10.0), HTML(value='')))"
      ]
     },
     "metadata": {},
     "output_type": "display_data"
    },
    {
     "name": "stdout",
     "output_type": "stream",
     "text": [
      "\n",
      "Train AUC:\t0.76036\n",
      "Test AUC:\t0.62919\n",
      "Тест №20\tfactors=32\tregularization=0\titerations=20\n"
     ]
    },
    {
     "data": {
      "application/vnd.jupyter.widget-view+json": {
       "model_id": "26978f0be76340cbb8cfb4df08c1fa88",
       "version_major": 2,
       "version_minor": 0
      },
      "text/plain": [
       "HBox(children=(HTML(value=''), FloatProgress(value=0.0, max=20.0), HTML(value='')))"
      ]
     },
     "metadata": {},
     "output_type": "display_data"
    },
    {
     "name": "stdout",
     "output_type": "stream",
     "text": [
      "\n",
      "Train AUC:\t0.76074\n",
      "Test AUC:\t0.63006\n",
      "Тест №21\tfactors=32\tregularization=0\titerations=30\n"
     ]
    },
    {
     "data": {
      "application/vnd.jupyter.widget-view+json": {
       "model_id": "3454b0d1f5da4093a75b1fb957e63555",
       "version_major": 2,
       "version_minor": 0
      },
      "text/plain": [
       "HBox(children=(HTML(value=''), FloatProgress(value=0.0, max=30.0), HTML(value='')))"
      ]
     },
     "metadata": {},
     "output_type": "display_data"
    },
    {
     "name": "stdout",
     "output_type": "stream",
     "text": [
      "\n",
      "Train AUC:\t0.76067\n",
      "Test AUC:\t0.62957\n",
      "Тест №22\tfactors=32\tregularization=0.01\titerations=10\n"
     ]
    },
    {
     "data": {
      "application/vnd.jupyter.widget-view+json": {
       "model_id": "13a6e656d15943ddaac5248bcffd530f",
       "version_major": 2,
       "version_minor": 0
      },
      "text/plain": [
       "HBox(children=(HTML(value=''), FloatProgress(value=0.0, max=10.0), HTML(value='')))"
      ]
     },
     "metadata": {},
     "output_type": "display_data"
    },
    {
     "name": "stdout",
     "output_type": "stream",
     "text": [
      "\n",
      "Train AUC:\t0.76017\n",
      "Test AUC:\t0.62865\n",
      "Тест №23\tfactors=32\tregularization=0.01\titerations=20\n"
     ]
    },
    {
     "data": {
      "application/vnd.jupyter.widget-view+json": {
       "model_id": "b3912ed676f24338827cda7653aef1ee",
       "version_major": 2,
       "version_minor": 0
      },
      "text/plain": [
       "HBox(children=(HTML(value=''), FloatProgress(value=0.0, max=20.0), HTML(value='')))"
      ]
     },
     "metadata": {},
     "output_type": "display_data"
    },
    {
     "name": "stdout",
     "output_type": "stream",
     "text": [
      "\n",
      "Train AUC:\t0.76060\n",
      "Test AUC:\t0.62949\n",
      "Тест №24\tfactors=32\tregularization=0.01\titerations=30\n"
     ]
    },
    {
     "data": {
      "application/vnd.jupyter.widget-view+json": {
       "model_id": "92a259bd05eb46d99fdba347e6a6bfbe",
       "version_major": 2,
       "version_minor": 0
      },
      "text/plain": [
       "HBox(children=(HTML(value=''), FloatProgress(value=0.0, max=30.0), HTML(value='')))"
      ]
     },
     "metadata": {},
     "output_type": "display_data"
    },
    {
     "name": "stdout",
     "output_type": "stream",
     "text": [
      "\n",
      "Train AUC:\t0.76061\n",
      "Test AUC:\t0.62923\n",
      "Тест №25\tfactors=32\tregularization=0.1\titerations=10\n"
     ]
    },
    {
     "data": {
      "application/vnd.jupyter.widget-view+json": {
       "model_id": "2c73f8a47eae408fbdb036b9e4eea233",
       "version_major": 2,
       "version_minor": 0
      },
      "text/plain": [
       "HBox(children=(HTML(value=''), FloatProgress(value=0.0, max=10.0), HTML(value='')))"
      ]
     },
     "metadata": {},
     "output_type": "display_data"
    },
    {
     "name": "stdout",
     "output_type": "stream",
     "text": [
      "\n",
      "Train AUC:\t0.76039\n",
      "Test AUC:\t0.62897\n",
      "Тест №26\tfactors=32\tregularization=0.1\titerations=20\n"
     ]
    },
    {
     "data": {
      "application/vnd.jupyter.widget-view+json": {
       "model_id": "87b1293d436e4b8f8b92deb14f6a39a8",
       "version_major": 2,
       "version_minor": 0
      },
      "text/plain": [
       "HBox(children=(HTML(value=''), FloatProgress(value=0.0, max=20.0), HTML(value='')))"
      ]
     },
     "metadata": {},
     "output_type": "display_data"
    },
    {
     "name": "stdout",
     "output_type": "stream",
     "text": [
      "\n",
      "Train AUC:\t0.76082\n",
      "Test AUC:\t0.63006\n",
      "Тест №27\tfactors=32\tregularization=0.1\titerations=30\n"
     ]
    },
    {
     "data": {
      "application/vnd.jupyter.widget-view+json": {
       "model_id": "5ff0d3f8d515406a9e08a4b5801d48bf",
       "version_major": 2,
       "version_minor": 0
      },
      "text/plain": [
       "HBox(children=(HTML(value=''), FloatProgress(value=0.0, max=30.0), HTML(value='')))"
      ]
     },
     "metadata": {},
     "output_type": "display_data"
    },
    {
     "name": "stdout",
     "output_type": "stream",
     "text": [
      "\n",
      "Train AUC:\t0.76057\n",
      "Test AUC:\t0.62895\n",
      "Тест №28\tfactors=64\tregularization=0\titerations=10\n"
     ]
    },
    {
     "data": {
      "application/vnd.jupyter.widget-view+json": {
       "model_id": "4344227f70c54c16803c5a0d5ab19a75",
       "version_major": 2,
       "version_minor": 0
      },
      "text/plain": [
       "HBox(children=(HTML(value=''), FloatProgress(value=0.0, max=10.0), HTML(value='')))"
      ]
     },
     "metadata": {},
     "output_type": "display_data"
    },
    {
     "name": "stdout",
     "output_type": "stream",
     "text": [
      "\n",
      "Train AUC:\t0.79245\n",
      "Test AUC:\t0.61785\n",
      "Тест №29\tfactors=64\tregularization=0\titerations=20\n"
     ]
    },
    {
     "data": {
      "application/vnd.jupyter.widget-view+json": {
       "model_id": "f946c115779d426abc1f824a0f441fb2",
       "version_major": 2,
       "version_minor": 0
      },
      "text/plain": [
       "HBox(children=(HTML(value=''), FloatProgress(value=0.0, max=20.0), HTML(value='')))"
      ]
     },
     "metadata": {},
     "output_type": "display_data"
    },
    {
     "name": "stdout",
     "output_type": "stream",
     "text": [
      "\n",
      "Train AUC:\t0.79267\n",
      "Test AUC:\t0.61712\n",
      "Тест №30\tfactors=64\tregularization=0\titerations=30\n"
     ]
    },
    {
     "data": {
      "application/vnd.jupyter.widget-view+json": {
       "model_id": "f4af23f424c0499499b800bcce74e101",
       "version_major": 2,
       "version_minor": 0
      },
      "text/plain": [
       "HBox(children=(HTML(value=''), FloatProgress(value=0.0, max=30.0), HTML(value='')))"
      ]
     },
     "metadata": {},
     "output_type": "display_data"
    },
    {
     "name": "stdout",
     "output_type": "stream",
     "text": [
      "\n",
      "Train AUC:\t0.79293\n",
      "Test AUC:\t0.61718\n",
      "Тест №31\tfactors=64\tregularization=0.01\titerations=10\n"
     ]
    },
    {
     "data": {
      "application/vnd.jupyter.widget-view+json": {
       "model_id": "8440049ed0ec4ca484cee1c6a6c9f713",
       "version_major": 2,
       "version_minor": 0
      },
      "text/plain": [
       "HBox(children=(HTML(value=''), FloatProgress(value=0.0, max=10.0), HTML(value='')))"
      ]
     },
     "metadata": {},
     "output_type": "display_data"
    },
    {
     "name": "stdout",
     "output_type": "stream",
     "text": [
      "\n",
      "Train AUC:\t0.79273\n",
      "Test AUC:\t0.61755\n",
      "Тест №32\tfactors=64\tregularization=0.01\titerations=20\n"
     ]
    },
    {
     "data": {
      "application/vnd.jupyter.widget-view+json": {
       "model_id": "7d1577a3609747a6a9b5a4689627d0bd",
       "version_major": 2,
       "version_minor": 0
      },
      "text/plain": [
       "HBox(children=(HTML(value=''), FloatProgress(value=0.0, max=20.0), HTML(value='')))"
      ]
     },
     "metadata": {},
     "output_type": "display_data"
    },
    {
     "name": "stdout",
     "output_type": "stream",
     "text": [
      "\n",
      "Train AUC:\t0.79289\n",
      "Test AUC:\t0.61738\n",
      "Тест №33\tfactors=64\tregularization=0.01\titerations=30\n"
     ]
    },
    {
     "data": {
      "application/vnd.jupyter.widget-view+json": {
       "model_id": "b32c8d73de4f4bb7928632b6e81fc3d7",
       "version_major": 2,
       "version_minor": 0
      },
      "text/plain": [
       "HBox(children=(HTML(value=''), FloatProgress(value=0.0, max=30.0), HTML(value='')))"
      ]
     },
     "metadata": {},
     "output_type": "display_data"
    },
    {
     "name": "stdout",
     "output_type": "stream",
     "text": [
      "\n",
      "Train AUC:\t0.79296\n",
      "Test AUC:\t0.61741\n",
      "Тест №34\tfactors=64\tregularization=0.1\titerations=10\n"
     ]
    },
    {
     "data": {
      "application/vnd.jupyter.widget-view+json": {
       "model_id": "21eedd6c5adb4e61b92126441c872426",
       "version_major": 2,
       "version_minor": 0
      },
      "text/plain": [
       "HBox(children=(HTML(value=''), FloatProgress(value=0.0, max=10.0), HTML(value='')))"
      ]
     },
     "metadata": {},
     "output_type": "display_data"
    },
    {
     "name": "stdout",
     "output_type": "stream",
     "text": [
      "\n",
      "Train AUC:\t0.79250\n",
      "Test AUC:\t0.61830\n",
      "Тест №35\tfactors=64\tregularization=0.1\titerations=20\n"
     ]
    },
    {
     "data": {
      "application/vnd.jupyter.widget-view+json": {
       "model_id": "edff2bce0dfd4a6387a12773c3b5ab54",
       "version_major": 2,
       "version_minor": 0
      },
      "text/plain": [
       "HBox(children=(HTML(value=''), FloatProgress(value=0.0, max=20.0), HTML(value='')))"
      ]
     },
     "metadata": {},
     "output_type": "display_data"
    },
    {
     "name": "stdout",
     "output_type": "stream",
     "text": [
      "\n",
      "Train AUC:\t0.79291\n",
      "Test AUC:\t0.61740\n",
      "Тест №36\tfactors=64\tregularization=0.1\titerations=30\n"
     ]
    },
    {
     "data": {
      "application/vnd.jupyter.widget-view+json": {
       "model_id": "5a1a41b03b9947a3b083eae931a39f41",
       "version_major": 2,
       "version_minor": 0
      },
      "text/plain": [
       "HBox(children=(HTML(value=''), FloatProgress(value=0.0, max=30.0), HTML(value='')))"
      ]
     },
     "metadata": {},
     "output_type": "display_data"
    },
    {
     "name": "stdout",
     "output_type": "stream",
     "text": [
      "\n",
      "Train AUC:\t0.79304\n",
      "Test AUC:\t0.61711\n"
     ]
    }
   ],
   "source": [
    "results_als = pd.DataFrame(columns=[\"factors\", \"regularization\", \"iterations\", \"trainAUC\", \"testAUC\"])\n",
    "i = 0\n",
    "\n",
    "for f in factors:\n",
    "    for reg in regularizations:\n",
    "        for it in iterations:\n",
    "            print(f\"Тест №{(i+1)}\\tfactors={f}\\tregularization={reg}\\titerations={it}\")\n",
    "            # Обучаем модель\n",
    "            model = imp.als.AlternatingLeastSquares(factors=f, regularization=reg, iterations=it)\n",
    "            model.fit(train_sparse.T)\n",
    "\n",
    "            # Точность на обучающем наборе\n",
    "            train_auc = get_auc_als(model, train_sparse, train_movies, train_true_ratings)\n",
    "            print(f\"Train AUC:\\t{train_auc:.5f}\")\n",
    "\n",
    "            # Точность на тестовом наборе\n",
    "            test_auc = get_auc_als(model, test_sparse, test_movies, test_true_ratings)\n",
    "            print(f\"Test AUC:\\t{test_auc:.5f}\")\n",
    "\n",
    "            results_als.loc[i] = (f, reg, it, train_auc, test_auc)\n",
    "            i+=1"
   ]
  },
  {
   "cell_type": "code",
   "execution_count": 58,
   "id": "28e13ef3",
   "metadata": {
    "scrolled": true
   },
   "outputs": [
    {
     "data": {
      "text/html": [
       "<div>\n",
       "<style scoped>\n",
       "    .dataframe tbody tr th:only-of-type {\n",
       "        vertical-align: middle;\n",
       "    }\n",
       "\n",
       "    .dataframe tbody tr th {\n",
       "        vertical-align: top;\n",
       "    }\n",
       "\n",
       "    .dataframe thead th {\n",
       "        text-align: right;\n",
       "    }\n",
       "</style>\n",
       "<table border=\"1\" class=\"dataframe\">\n",
       "  <thead>\n",
       "    <tr style=\"text-align: right;\">\n",
       "      <th></th>\n",
       "      <th>factors</th>\n",
       "      <th>regularization</th>\n",
       "      <th>iterations</th>\n",
       "      <th>trainAUC</th>\n",
       "      <th>testAUC</th>\n",
       "    </tr>\n",
       "  </thead>\n",
       "  <tbody>\n",
       "    <tr>\n",
       "      <th>35</th>\n",
       "      <td>64.0</td>\n",
       "      <td>0.10</td>\n",
       "      <td>30.0</td>\n",
       "      <td>0.793037</td>\n",
       "      <td>0.617109</td>\n",
       "    </tr>\n",
       "    <tr>\n",
       "      <th>28</th>\n",
       "      <td>64.0</td>\n",
       "      <td>0.00</td>\n",
       "      <td>20.0</td>\n",
       "      <td>0.792673</td>\n",
       "      <td>0.617124</td>\n",
       "    </tr>\n",
       "    <tr>\n",
       "      <th>29</th>\n",
       "      <td>64.0</td>\n",
       "      <td>0.00</td>\n",
       "      <td>30.0</td>\n",
       "      <td>0.792933</td>\n",
       "      <td>0.617183</td>\n",
       "    </tr>\n",
       "    <tr>\n",
       "      <th>31</th>\n",
       "      <td>64.0</td>\n",
       "      <td>0.01</td>\n",
       "      <td>20.0</td>\n",
       "      <td>0.792892</td>\n",
       "      <td>0.617383</td>\n",
       "    </tr>\n",
       "    <tr>\n",
       "      <th>34</th>\n",
       "      <td>64.0</td>\n",
       "      <td>0.10</td>\n",
       "      <td>20.0</td>\n",
       "      <td>0.792907</td>\n",
       "      <td>0.617403</td>\n",
       "    </tr>\n",
       "    <tr>\n",
       "      <th>32</th>\n",
       "      <td>64.0</td>\n",
       "      <td>0.01</td>\n",
       "      <td>30.0</td>\n",
       "      <td>0.792964</td>\n",
       "      <td>0.617412</td>\n",
       "    </tr>\n",
       "    <tr>\n",
       "      <th>30</th>\n",
       "      <td>64.0</td>\n",
       "      <td>0.01</td>\n",
       "      <td>10.0</td>\n",
       "      <td>0.792734</td>\n",
       "      <td>0.617547</td>\n",
       "    </tr>\n",
       "    <tr>\n",
       "      <th>27</th>\n",
       "      <td>64.0</td>\n",
       "      <td>0.00</td>\n",
       "      <td>10.0</td>\n",
       "      <td>0.792446</td>\n",
       "      <td>0.617850</td>\n",
       "    </tr>\n",
       "    <tr>\n",
       "      <th>33</th>\n",
       "      <td>64.0</td>\n",
       "      <td>0.10</td>\n",
       "      <td>10.0</td>\n",
       "      <td>0.792501</td>\n",
       "      <td>0.618303</td>\n",
       "    </tr>\n",
       "    <tr>\n",
       "      <th>6</th>\n",
       "      <td>8.0</td>\n",
       "      <td>0.10</td>\n",
       "      <td>10.0</td>\n",
       "      <td>0.711609</td>\n",
       "      <td>0.624110</td>\n",
       "    </tr>\n",
       "    <tr>\n",
       "      <th>0</th>\n",
       "      <td>8.0</td>\n",
       "      <td>0.00</td>\n",
       "      <td>10.0</td>\n",
       "      <td>0.713477</td>\n",
       "      <td>0.626165</td>\n",
       "    </tr>\n",
       "    <tr>\n",
       "      <th>3</th>\n",
       "      <td>8.0</td>\n",
       "      <td>0.01</td>\n",
       "      <td>10.0</td>\n",
       "      <td>0.713373</td>\n",
       "      <td>0.626424</td>\n",
       "    </tr>\n",
       "    <tr>\n",
       "      <th>7</th>\n",
       "      <td>8.0</td>\n",
       "      <td>0.10</td>\n",
       "      <td>20.0</td>\n",
       "      <td>0.713354</td>\n",
       "      <td>0.626704</td>\n",
       "    </tr>\n",
       "    <tr>\n",
       "      <th>4</th>\n",
       "      <td>8.0</td>\n",
       "      <td>0.01</td>\n",
       "      <td>20.0</td>\n",
       "      <td>0.713354</td>\n",
       "      <td>0.626704</td>\n",
       "    </tr>\n",
       "    <tr>\n",
       "      <th>1</th>\n",
       "      <td>8.0</td>\n",
       "      <td>0.00</td>\n",
       "      <td>20.0</td>\n",
       "      <td>0.713354</td>\n",
       "      <td>0.626706</td>\n",
       "    </tr>\n",
       "    <tr>\n",
       "      <th>2</th>\n",
       "      <td>8.0</td>\n",
       "      <td>0.00</td>\n",
       "      <td>30.0</td>\n",
       "      <td>0.713354</td>\n",
       "      <td>0.626708</td>\n",
       "    </tr>\n",
       "    <tr>\n",
       "      <th>8</th>\n",
       "      <td>8.0</td>\n",
       "      <td>0.10</td>\n",
       "      <td>30.0</td>\n",
       "      <td>0.713353</td>\n",
       "      <td>0.626708</td>\n",
       "    </tr>\n",
       "    <tr>\n",
       "      <th>5</th>\n",
       "      <td>8.0</td>\n",
       "      <td>0.01</td>\n",
       "      <td>30.0</td>\n",
       "      <td>0.713354</td>\n",
       "      <td>0.626708</td>\n",
       "    </tr>\n",
       "    <tr>\n",
       "      <th>21</th>\n",
       "      <td>32.0</td>\n",
       "      <td>0.01</td>\n",
       "      <td>10.0</td>\n",
       "      <td>0.760173</td>\n",
       "      <td>0.628645</td>\n",
       "    </tr>\n",
       "    <tr>\n",
       "      <th>26</th>\n",
       "      <td>32.0</td>\n",
       "      <td>0.10</td>\n",
       "      <td>30.0</td>\n",
       "      <td>0.760565</td>\n",
       "      <td>0.628950</td>\n",
       "    </tr>\n",
       "    <tr>\n",
       "      <th>24</th>\n",
       "      <td>32.0</td>\n",
       "      <td>0.10</td>\n",
       "      <td>10.0</td>\n",
       "      <td>0.760392</td>\n",
       "      <td>0.628974</td>\n",
       "    </tr>\n",
       "    <tr>\n",
       "      <th>18</th>\n",
       "      <td>32.0</td>\n",
       "      <td>0.00</td>\n",
       "      <td>10.0</td>\n",
       "      <td>0.760363</td>\n",
       "      <td>0.629193</td>\n",
       "    </tr>\n",
       "    <tr>\n",
       "      <th>9</th>\n",
       "      <td>16.0</td>\n",
       "      <td>0.00</td>\n",
       "      <td>10.0</td>\n",
       "      <td>0.734657</td>\n",
       "      <td>0.629206</td>\n",
       "    </tr>\n",
       "    <tr>\n",
       "      <th>23</th>\n",
       "      <td>32.0</td>\n",
       "      <td>0.01</td>\n",
       "      <td>30.0</td>\n",
       "      <td>0.760614</td>\n",
       "      <td>0.629232</td>\n",
       "    </tr>\n",
       "    <tr>\n",
       "      <th>22</th>\n",
       "      <td>32.0</td>\n",
       "      <td>0.01</td>\n",
       "      <td>20.0</td>\n",
       "      <td>0.760600</td>\n",
       "      <td>0.629487</td>\n",
       "    </tr>\n",
       "    <tr>\n",
       "      <th>20</th>\n",
       "      <td>32.0</td>\n",
       "      <td>0.00</td>\n",
       "      <td>30.0</td>\n",
       "      <td>0.760667</td>\n",
       "      <td>0.629565</td>\n",
       "    </tr>\n",
       "    <tr>\n",
       "      <th>25</th>\n",
       "      <td>32.0</td>\n",
       "      <td>0.10</td>\n",
       "      <td>20.0</td>\n",
       "      <td>0.760822</td>\n",
       "      <td>0.630059</td>\n",
       "    </tr>\n",
       "    <tr>\n",
       "      <th>19</th>\n",
       "      <td>32.0</td>\n",
       "      <td>0.00</td>\n",
       "      <td>20.0</td>\n",
       "      <td>0.760744</td>\n",
       "      <td>0.630064</td>\n",
       "    </tr>\n",
       "    <tr>\n",
       "      <th>12</th>\n",
       "      <td>16.0</td>\n",
       "      <td>0.01</td>\n",
       "      <td>10.0</td>\n",
       "      <td>0.735941</td>\n",
       "      <td>0.630100</td>\n",
       "    </tr>\n",
       "    <tr>\n",
       "      <th>15</th>\n",
       "      <td>16.0</td>\n",
       "      <td>0.10</td>\n",
       "      <td>10.0</td>\n",
       "      <td>0.735298</td>\n",
       "      <td>0.630243</td>\n",
       "    </tr>\n",
       "    <tr>\n",
       "      <th>13</th>\n",
       "      <td>16.0</td>\n",
       "      <td>0.01</td>\n",
       "      <td>20.0</td>\n",
       "      <td>0.735919</td>\n",
       "      <td>0.630691</td>\n",
       "    </tr>\n",
       "    <tr>\n",
       "      <th>11</th>\n",
       "      <td>16.0</td>\n",
       "      <td>0.00</td>\n",
       "      <td>30.0</td>\n",
       "      <td>0.735483</td>\n",
       "      <td>0.631120</td>\n",
       "    </tr>\n",
       "    <tr>\n",
       "      <th>17</th>\n",
       "      <td>16.0</td>\n",
       "      <td>0.10</td>\n",
       "      <td>30.0</td>\n",
       "      <td>0.735577</td>\n",
       "      <td>0.631369</td>\n",
       "    </tr>\n",
       "    <tr>\n",
       "      <th>14</th>\n",
       "      <td>16.0</td>\n",
       "      <td>0.01</td>\n",
       "      <td>30.0</td>\n",
       "      <td>0.735787</td>\n",
       "      <td>0.631491</td>\n",
       "    </tr>\n",
       "    <tr>\n",
       "      <th>10</th>\n",
       "      <td>16.0</td>\n",
       "      <td>0.00</td>\n",
       "      <td>20.0</td>\n",
       "      <td>0.735947</td>\n",
       "      <td>0.631562</td>\n",
       "    </tr>\n",
       "    <tr>\n",
       "      <th>16</th>\n",
       "      <td>16.0</td>\n",
       "      <td>0.10</td>\n",
       "      <td>20.0</td>\n",
       "      <td>0.735655</td>\n",
       "      <td>0.631646</td>\n",
       "    </tr>\n",
       "  </tbody>\n",
       "</table>\n",
       "</div>"
      ],
      "text/plain": [
       "    factors  regularization  iterations  trainAUC   testAUC\n",
       "35     64.0            0.10        30.0  0.793037  0.617109\n",
       "28     64.0            0.00        20.0  0.792673  0.617124\n",
       "29     64.0            0.00        30.0  0.792933  0.617183\n",
       "31     64.0            0.01        20.0  0.792892  0.617383\n",
       "34     64.0            0.10        20.0  0.792907  0.617403\n",
       "32     64.0            0.01        30.0  0.792964  0.617412\n",
       "30     64.0            0.01        10.0  0.792734  0.617547\n",
       "27     64.0            0.00        10.0  0.792446  0.617850\n",
       "33     64.0            0.10        10.0  0.792501  0.618303\n",
       "6       8.0            0.10        10.0  0.711609  0.624110\n",
       "0       8.0            0.00        10.0  0.713477  0.626165\n",
       "3       8.0            0.01        10.0  0.713373  0.626424\n",
       "7       8.0            0.10        20.0  0.713354  0.626704\n",
       "4       8.0            0.01        20.0  0.713354  0.626704\n",
       "1       8.0            0.00        20.0  0.713354  0.626706\n",
       "2       8.0            0.00        30.0  0.713354  0.626708\n",
       "8       8.0            0.10        30.0  0.713353  0.626708\n",
       "5       8.0            0.01        30.0  0.713354  0.626708\n",
       "21     32.0            0.01        10.0  0.760173  0.628645\n",
       "26     32.0            0.10        30.0  0.760565  0.628950\n",
       "24     32.0            0.10        10.0  0.760392  0.628974\n",
       "18     32.0            0.00        10.0  0.760363  0.629193\n",
       "9      16.0            0.00        10.0  0.734657  0.629206\n",
       "23     32.0            0.01        30.0  0.760614  0.629232\n",
       "22     32.0            0.01        20.0  0.760600  0.629487\n",
       "20     32.0            0.00        30.0  0.760667  0.629565\n",
       "25     32.0            0.10        20.0  0.760822  0.630059\n",
       "19     32.0            0.00        20.0  0.760744  0.630064\n",
       "12     16.0            0.01        10.0  0.735941  0.630100\n",
       "15     16.0            0.10        10.0  0.735298  0.630243\n",
       "13     16.0            0.01        20.0  0.735919  0.630691\n",
       "11     16.0            0.00        30.0  0.735483  0.631120\n",
       "17     16.0            0.10        30.0  0.735577  0.631369\n",
       "14     16.0            0.01        30.0  0.735787  0.631491\n",
       "10     16.0            0.00        20.0  0.735947  0.631562\n",
       "16     16.0            0.10        20.0  0.735655  0.631646"
      ]
     },
     "execution_count": 58,
     "metadata": {},
     "output_type": "execute_result"
    }
   ],
   "source": [
    "results_als.sort_values(\"testAUC\")"
   ]
  },
  {
   "cell_type": "markdown",
   "id": "5fd1d24a",
   "metadata": {},
   "source": [
    "#### Вывод"
   ]
  },
  {
   "cell_type": "markdown",
   "id": "8918038a",
   "metadata": {},
   "source": [
    "Так же, как и в случае с SVD моделью, сходимость растет по мере увеличения размерности скрытого пространства - значения параметра **f**.  \n",
    "\n",
    "При этом, максимального значения точности - **0.631646** - на тестовой выборке модель достигает при значении **f=16**.\n",
    "\n",
    "Регуляризация незначительно влияет на сходимость в данной модели."
   ]
  },
  {
   "cell_type": "markdown",
   "id": "cooked-invite",
   "metadata": {},
   "source": [
    "### 6.1.3. Baseline LightFM"
   ]
  },
  {
   "cell_type": "markdown",
   "id": "gentle-bride",
   "metadata": {},
   "source": [
    "Для тестирования моделей с коллаборативным и с гибридным подходом отлично подходит библиотека LightFM. Воспользуемся ей для тестирования коллаборативного подхода."
   ]
  },
  {
   "cell_type": "code",
   "execution_count": 51,
   "id": "b0fe3759",
   "metadata": {},
   "outputs": [],
   "source": [
    "!pip install lightfm --quiet\n",
    "from lightfm import LightFM\n",
    "from lightfm.evaluation import auc_score"
   ]
  },
  {
   "cell_type": "code",
   "execution_count": 91,
   "id": "f08f9347",
   "metadata": {},
   "outputs": [],
   "source": [
    "def testLightFM(n_c=10, epochs=50, lr=0.005, loss=\"warp\", item_features=None, verbose=False):\n",
    "    \"\"\"\n",
    "    Данный метод обучает модель LightFM с заданными гиперпараметрами и возвращает информацию о наилучшей точности  \n",
    "    \"\"\"\n",
    "    model = LightFM(no_components=n_c, loss=loss, learning_rate=lr)\n",
    "    print(\"Epoch\\tTrain\\tTest\")\n",
    "    best = (0, 0, 0)\n",
    "    tr_auc = 0\n",
    "    ts_auc = 0\n",
    "    for i in range(epochs):\n",
    "        # Обучиться в течении одной эпохи\n",
    "        model.fit_partial(train_sparse, epochs=1, verbose=verbose, num_threads=6, item_features=item_features)\n",
    "        # Провести тестирование\n",
    "        if (i+1)%5==0:\n",
    "            tr_auc = auc_score(model, train_sparse, num_threads=6, item_features=item_features).mean()\n",
    "            ts_auc = auc_score(model, test_sparse, num_threads=6, item_features=item_features).mean()\n",
    "            print(f\"{(i+1)}  \\t{tr_auc:.5f}\\t{ts_auc:.5f}\")\n",
    "        else:\n",
    "            ts_auc = auc_score(model, test_sparse, num_threads=6, item_features=item_features).mean()\n",
    "            print(f\"{(i+1)}  \\t\\t{ts_auc:.5f}\")\n",
    "        \n",
    "        if ts_auc>best[2]:\n",
    "            best = (i, tr_auc, ts_auc)\n",
    "            \n",
    "    return best"
   ]
  },
  {
   "cell_type": "markdown",
   "id": "f5e160fb",
   "metadata": {},
   "source": [
    "Протестирум модель с разными гиперпараметрами. Проверку на сходимость будем проводить раз в 5 эпох, поскольку это очень затратная по времени операция\n",
    "\n",
    "Была выбрана функция ошибки *warp*, поскольку она стабильно показывает лучшие результаты."
   ]
  },
  {
   "cell_type": "code",
   "execution_count": 65,
   "id": "60c0e1b7",
   "metadata": {},
   "outputs": [],
   "source": [
    "learning_rate = [0.05,0.005]\n",
    "n_components = [16, 32, 64]\n",
    "epochs = 25"
   ]
  },
  {
   "cell_type": "code",
   "execution_count": 66,
   "id": "4ec975c1",
   "metadata": {
    "scrolled": true
   },
   "outputs": [
    {
     "name": "stdout",
     "output_type": "stream",
     "text": [
      "Тест №1\tlearning rate=0.05\tnumber of components=16\n",
      "Epoch\tTrain\tTest\n",
      "1  \t\t0.91567\n",
      "2  \t\t0.92224\n",
      "3  \t\t0.92563\n",
      "4  \t\t0.92773\n",
      "5  \t0.95549\t0.92918\n",
      "6  \t\t0.93025\n",
      "7  \t\t0.93111\n",
      "8  \t\t0.93181\n",
      "9  \t\t0.93238\n",
      "10  \t0.95856\t0.93287\n",
      "11  \t\t0.93329\n",
      "12  \t\t0.93364\n",
      "13  \t\t0.93395\n",
      "14  \t\t0.93422\n",
      "15  \t0.96001\t0.93446\n",
      "16  \t\t0.93467\n",
      "17  \t\t0.93487\n",
      "18  \t\t0.93503\n",
      "19  \t\t0.93520\n",
      "20  \t0.96086\t0.93534\n",
      "21  \t\t0.93546\n",
      "22  \t\t0.93557\n",
      "23  \t\t0.93567\n",
      "24  \t\t0.93578\n",
      "25  \t0.96145\t0.93586\n",
      "\n",
      "Тест №2\tlearning rate=0.05\tnumber of components=32\n",
      "Epoch\tTrain\tTest\n",
      "1  \t\t0.91962\n",
      "2  \t\t0.92621\n",
      "3  \t\t0.92920\n",
      "4  \t\t0.93099\n",
      "5  \t0.95853\t0.93223\n",
      "6  \t\t0.93315\n",
      "7  \t\t0.93388\n",
      "8  \t\t0.93443\n",
      "9  \t\t0.93489\n",
      "10  \t0.96149\t0.93525\n",
      "11  \t\t0.93554\n",
      "12  \t\t0.93576\n",
      "13  \t\t0.93597\n",
      "14  \t\t0.93616\n",
      "15  \t0.96279\t0.93631\n",
      "16  \t\t0.93643\n",
      "17  \t\t0.93654\n",
      "18  \t\t0.93662\n",
      "19  \t\t0.93669\n",
      "20  \t0.96351\t0.93678\n",
      "21  \t\t0.93683\n",
      "22  \t\t0.93689\n",
      "23  \t\t0.93692\n",
      "24  \t\t0.93694\n",
      "25  \t0.96394\t0.93696\n",
      "\n",
      "Тест №3\tlearning rate=0.05\tnumber of components=64\n",
      "Epoch\tTrain\tTest\n",
      "1  \t\t0.92229\n",
      "2  \t\t0.92872\n",
      "3  \t\t0.93157\n",
      "4  \t\t0.93322\n",
      "5  \t0.96130\t0.93424\n",
      "6  \t\t0.93496\n",
      "7  \t\t0.93551\n",
      "8  \t\t0.93588\n",
      "9  \t\t0.93615\n",
      "10  \t0.96410\t0.93633\n",
      "11  \t\t0.93646\n",
      "12  \t\t0.93656\n",
      "13  \t\t0.93663\n",
      "14  \t\t0.93665\n",
      "15  \t0.96507\t0.93666\n",
      "16  \t\t0.93663\n",
      "17  \t\t0.93659\n",
      "18  \t\t0.93654\n",
      "19  \t\t0.93649\n",
      "20  \t0.96548\t0.93641\n",
      "21  \t\t0.93634\n",
      "22  \t\t0.93626\n",
      "23  \t\t0.93619\n",
      "24  \t\t0.93611\n",
      "25  \t0.96560\t0.93603\n",
      "\n",
      "Тест №4\tlearning rate=0.005\tnumber of components=16\n",
      "Epoch\tTrain\tTest\n",
      "1  \t\t0.87738\n",
      "2  \t\t0.87816\n",
      "3  \t\t0.87888\n",
      "4  \t\t0.87961\n",
      "5  \t0.92381\t0.88037\n",
      "6  \t\t0.88113\n",
      "7  \t\t0.88189\n",
      "8  \t\t0.88264\n",
      "9  \t\t0.88340\n",
      "10  \t0.92693\t0.88415\n",
      "11  \t\t0.88492\n",
      "12  \t\t0.88568\n",
      "13  \t\t0.88643\n",
      "14  \t\t0.88717\n",
      "15  \t0.92979\t0.88791\n",
      "16  \t\t0.88864\n",
      "17  \t\t0.88937\n",
      "18  \t\t0.89009\n",
      "19  \t\t0.89080\n",
      "20  \t0.93233\t0.89150\n",
      "21  \t\t0.89219\n",
      "22  \t\t0.89287\n",
      "23  \t\t0.89354\n",
      "24  \t\t0.89419\n",
      "25  \t0.93453\t0.89483\n",
      "\n",
      "Тест №5\tlearning rate=0.005\tnumber of components=32\n",
      "Epoch\tTrain\tTest\n",
      "1  \t\t0.87638\n",
      "2  \t\t0.87710\n",
      "3  \t\t0.87771\n",
      "4  \t\t0.87829\n",
      "5  \t0.92260\t0.87888\n",
      "6  \t\t0.87950\n",
      "7  \t\t0.88018\n",
      "8  \t\t0.88088\n",
      "9  \t\t0.88164\n",
      "10  \t0.92547\t0.88242\n",
      "11  \t\t0.88324\n",
      "12  \t\t0.88407\n",
      "13  \t\t0.88490\n",
      "14  \t\t0.88575\n",
      "15  \t0.92875\t0.88658\n",
      "16  \t\t0.88742\n",
      "17  \t\t0.88824\n",
      "18  \t\t0.88904\n",
      "19  \t\t0.88983\n",
      "20  \t0.93177\t0.89061\n",
      "21  \t\t0.89137\n",
      "22  \t\t0.89211\n",
      "23  \t\t0.89283\n",
      "24  \t\t0.89353\n",
      "25  \t0.93435\t0.89422\n",
      "\n",
      "Тест №6\tlearning rate=0.005\tnumber of components=64\n",
      "Epoch\tTrain\tTest\n",
      "1  \t\t0.87643\n",
      "2  \t\t0.87802\n",
      "3  \t\t0.87944\n",
      "4  \t\t0.88073\n",
      "5  \t0.92524\t0.88192\n",
      "6  \t\t0.88311\n",
      "7  \t\t0.88425\n",
      "8  \t\t0.88539\n",
      "9  \t\t0.88655\n",
      "10  \t0.92979\t0.88770\n",
      "11  \t\t0.88887\n",
      "12  \t\t0.89005\n",
      "13  \t\t0.89126\n",
      "14  \t\t0.89248\n",
      "15  \t0.93413\t0.89372\n",
      "16  \t\t0.89495\n",
      "17  \t\t0.89616\n",
      "18  \t\t0.89736\n",
      "19  \t\t0.89853\n",
      "20  \t0.93796\t0.89965\n",
      "21  \t\t0.90074\n",
      "22  \t\t0.90177\n",
      "23  \t\t0.90275\n",
      "24  \t\t0.90369\n",
      "25  \t0.94088\t0.90458\n",
      "\n"
     ]
    }
   ],
   "source": [
    "results_LFM_base = pd.DataFrame(columns=[\"learning_rate\", \"n_components\", \"epoch\", \"trainAUC\", \"testAUC\"])\n",
    "\n",
    "i = 0\n",
    "\n",
    "for lr in learning_rate:\n",
    "    for n_c in n_components:\n",
    "        print(f\"Тест №{(i+1)}\\tlearning rate={lr}\\tnumber of components={n_c}\")\n",
    "        ep, train_auc, test_auc = testLightFM(lr=lr, n_c=n_c, epochs=epochs)\n",
    "        results_LFM_base.loc[i] = (lr, n_c, ep, train_auc, test_auc)\n",
    "        i+=1\n",
    "        print()"
   ]
  },
  {
   "cell_type": "code",
   "execution_count": 67,
   "id": "b5592d7e",
   "metadata": {
    "scrolled": false
   },
   "outputs": [
    {
     "data": {
      "text/html": [
       "<div>\n",
       "<style scoped>\n",
       "    .dataframe tbody tr th:only-of-type {\n",
       "        vertical-align: middle;\n",
       "    }\n",
       "\n",
       "    .dataframe tbody tr th {\n",
       "        vertical-align: top;\n",
       "    }\n",
       "\n",
       "    .dataframe thead th {\n",
       "        text-align: right;\n",
       "    }\n",
       "</style>\n",
       "<table border=\"1\" class=\"dataframe\">\n",
       "  <thead>\n",
       "    <tr style=\"text-align: right;\">\n",
       "      <th></th>\n",
       "      <th>learning_rate</th>\n",
       "      <th>n_components</th>\n",
       "      <th>epoch</th>\n",
       "      <th>trainAUC</th>\n",
       "      <th>testAUC</th>\n",
       "    </tr>\n",
       "  </thead>\n",
       "  <tbody>\n",
       "    <tr>\n",
       "      <th>4</th>\n",
       "      <td>0.005</td>\n",
       "      <td>32.0</td>\n",
       "      <td>24.0</td>\n",
       "      <td>0.934353</td>\n",
       "      <td>0.894220</td>\n",
       "    </tr>\n",
       "    <tr>\n",
       "      <th>3</th>\n",
       "      <td>0.005</td>\n",
       "      <td>16.0</td>\n",
       "      <td>24.0</td>\n",
       "      <td>0.934535</td>\n",
       "      <td>0.894829</td>\n",
       "    </tr>\n",
       "    <tr>\n",
       "      <th>5</th>\n",
       "      <td>0.005</td>\n",
       "      <td>64.0</td>\n",
       "      <td>24.0</td>\n",
       "      <td>0.940881</td>\n",
       "      <td>0.904577</td>\n",
       "    </tr>\n",
       "    <tr>\n",
       "      <th>0</th>\n",
       "      <td>0.050</td>\n",
       "      <td>16.0</td>\n",
       "      <td>24.0</td>\n",
       "      <td>0.961445</td>\n",
       "      <td>0.935860</td>\n",
       "    </tr>\n",
       "    <tr>\n",
       "      <th>2</th>\n",
       "      <td>0.050</td>\n",
       "      <td>64.0</td>\n",
       "      <td>14.0</td>\n",
       "      <td>0.965074</td>\n",
       "      <td>0.936662</td>\n",
       "    </tr>\n",
       "    <tr>\n",
       "      <th>1</th>\n",
       "      <td>0.050</td>\n",
       "      <td>32.0</td>\n",
       "      <td>24.0</td>\n",
       "      <td>0.963935</td>\n",
       "      <td>0.936962</td>\n",
       "    </tr>\n",
       "  </tbody>\n",
       "</table>\n",
       "</div>"
      ],
      "text/plain": [
       "   learning_rate  n_components  epoch  trainAUC   testAUC\n",
       "4          0.005          32.0   24.0  0.934353  0.894220\n",
       "3          0.005          16.0   24.0  0.934535  0.894829\n",
       "5          0.005          64.0   24.0  0.940881  0.904577\n",
       "0          0.050          16.0   24.0  0.961445  0.935860\n",
       "2          0.050          64.0   14.0  0.965074  0.936662\n",
       "1          0.050          32.0   24.0  0.963935  0.936962"
      ]
     },
     "execution_count": 67,
     "metadata": {},
     "output_type": "execute_result"
    }
   ],
   "source": [
    "results_LFM_base.sort_values(\"testAUC\")"
   ]
  },
  {
   "cell_type": "markdown",
   "id": "7f7708e7",
   "metadata": {},
   "source": [
    "#### Вывод"
   ]
  },
  {
   "cell_type": "markdown",
   "id": "6d1589d5",
   "metadata": {},
   "source": [
    "Модель LightFM показала самые высокие значения точности как на обучающем (**0.963935**), так и на тестовом (**0.936962**) наборах данных. Полагаю, это связано с внутренней реализацией модели. В частности, с наличием оптимизационного алгоритма *Adagrad*.\n",
    "\n",
    "В случае с данной моделью, результаты обучения практически не зависят от размерности скрытого пространства - модель демонстрирует высокие показатели точности для всех выбранных значений размерности.  \n",
    "\n",
    "Возможно, модель способна показать лучшие результаты при дополнительном обучении."
   ]
  },
  {
   "cell_type": "markdown",
   "id": "2949ff28",
   "metadata": {},
   "source": [
    "## 6.2. Гибридный (Коллаборативный + Контентный) подход"
   ]
  },
  {
   "cell_type": "markdown",
   "id": "84ea5956",
   "metadata": {},
   "source": [
    "### 6.2.1. LightFM + genres"
   ]
  },
  {
   "cell_type": "markdown",
   "id": "df928c10",
   "metadata": {},
   "source": [
    "При обучении данной модели воспользуемся информацией о жанрах фильмов. Списки гиперпараметров оставим без изменений."
   ]
  },
  {
   "cell_type": "code",
   "execution_count": 68,
   "id": "408dc31f",
   "metadata": {
    "scrolled": true
   },
   "outputs": [
    {
     "name": "stdout",
     "output_type": "stream",
     "text": [
      "Тест №1\tlearning rate=0.05\tnumber of components=16\n",
      "Epoch\tTrain\tTest\n",
      "1  \t\t0.64535\n",
      "2  \t\t0.64737\n",
      "3  \t\t0.64831\n",
      "4  \t\t0.64839\n",
      "5  \t0.70078\t0.64844\n",
      "6  \t\t0.64822\n",
      "7  \t\t0.64785\n",
      "8  \t\t0.64738\n",
      "9  \t\t0.64689\n",
      "10  \t0.70547\t0.64658\n",
      "11  \t\t0.64626\n",
      "12  \t\t0.64578\n",
      "13  \t\t0.64544\n",
      "14  \t\t0.64523\n",
      "15  \t0.70720\t0.64470\n",
      "16  \t\t0.64458\n",
      "17  \t\t0.64419\n",
      "18  \t\t0.64387\n",
      "19  \t\t0.64373\n",
      "20  \t0.70833\t0.64341\n",
      "21  \t\t0.64308\n",
      "22  \t\t0.64294\n",
      "23  \t\t0.64269\n",
      "24  \t\t0.64248\n",
      "25  \t0.70910\t0.64247\n",
      "\n",
      "Тест №2\tlearning rate=0.05\tnumber of components=32\n",
      "Epoch\tTrain\tTest\n",
      "1  \t\t0.64934\n",
      "2  \t\t0.65042\n",
      "3  \t\t0.64992\n",
      "4  \t\t0.64911\n",
      "5  \t0.70919\t0.64789\n",
      "6  \t\t0.64688\n",
      "7  \t\t0.64586\n",
      "8  \t\t0.64466\n",
      "9  \t\t0.64376\n",
      "10  \t0.71405\t0.64298\n",
      "11  \t\t0.64202\n",
      "12  \t\t0.64141\n",
      "13  \t\t0.64059\n",
      "14  \t\t0.64001\n",
      "15  \t0.71534\t0.63924\n",
      "16  \t\t0.63866\n",
      "17  \t\t0.63815\n",
      "18  \t\t0.63773\n",
      "19  \t\t0.63721\n",
      "20  \t0.71593\t0.63679\n",
      "21  \t\t0.63647\n",
      "22  \t\t0.63611\n",
      "23  \t\t0.63557\n",
      "24  \t\t0.63521\n",
      "25  \t0.71612\t0.63513\n",
      "\n",
      "Тест №3\tlearning rate=0.05\tnumber of components=64\n",
      "Epoch\tTrain\tTest\n",
      "1  \t\t0.65239\n",
      "2  \t\t0.65193\n",
      "3  \t\t0.65005\n",
      "4  \t\t0.64842\n",
      "5  \t0.71379\t0.64671\n",
      "6  \t\t0.64503\n",
      "7  \t\t0.64371\n",
      "8  \t\t0.64246\n",
      "9  \t\t0.64151\n",
      "10  \t0.71618\t0.64059\n",
      "11  \t\t0.63965\n",
      "12  \t\t0.63889\n",
      "13  \t\t0.63837\n",
      "14  \t\t0.63779\n",
      "15  \t0.71649\t0.63714\n",
      "16  \t\t0.63681\n",
      "17  \t\t0.63633\n",
      "18  \t\t0.63600\n",
      "19  \t\t0.63545\n",
      "20  \t0.71657\t0.63516\n",
      "21  \t\t0.63484\n",
      "22  \t\t0.63460\n",
      "23  \t\t0.63429\n",
      "24  \t\t0.63390\n",
      "25  \t0.71632\t0.63348\n",
      "\n",
      "Тест №4\tlearning rate=0.005\tnumber of components=16\n",
      "Epoch\tTrain\tTest\n",
      "1  \t\t0.63945\n",
      "2  \t\t0.64276\n",
      "3  \t\t0.64427\n",
      "4  \t\t0.64528\n",
      "5  \t0.68144\t0.64612\n",
      "6  \t\t0.64689\n",
      "7  \t\t0.64743\n",
      "8  \t\t0.64791\n",
      "9  \t\t0.64834\n",
      "10  \t0.68638\t0.64873\n",
      "11  \t\t0.64909\n",
      "12  \t\t0.64944\n",
      "13  \t\t0.64974\n",
      "14  \t\t0.65001\n",
      "15  \t0.68953\t0.65022\n",
      "16  \t\t0.65043\n",
      "17  \t\t0.65065\n",
      "18  \t\t0.65086\n",
      "19  \t\t0.65100\n",
      "20  \t0.69182\t0.65117\n",
      "21  \t\t0.65133\n",
      "22  \t\t0.65151\n",
      "23  \t\t0.65164\n",
      "24  \t\t0.65178\n",
      "25  \t0.69370\t0.65190\n",
      "\n",
      "Тест №5\tlearning rate=0.005\tnumber of components=32\n",
      "Epoch\tTrain\tTest\n",
      "1  \t\t0.63863\n",
      "2  \t\t0.64119\n",
      "3  \t\t0.64326\n",
      "4  \t\t0.64486\n",
      "5  \t0.68231\t0.64621\n",
      "6  \t\t0.64726\n",
      "7  \t\t0.64805\n",
      "8  \t\t0.64881\n",
      "9  \t\t0.64939\n",
      "10  \t0.68925\t0.64992\n",
      "11  \t\t0.65033\n",
      "12  \t\t0.65072\n",
      "13  \t\t0.65105\n",
      "14  \t\t0.65136\n",
      "15  \t0.69339\t0.65162\n",
      "16  \t\t0.65183\n",
      "17  \t\t0.65204\n",
      "18  \t\t0.65223\n",
      "19  \t\t0.65238\n",
      "20  \t0.69632\t0.65252\n",
      "21  \t\t0.65264\n",
      "22  \t\t0.65275\n",
      "23  \t\t0.65280\n",
      "24  \t\t0.65291\n",
      "25  \t0.69839\t0.65298\n",
      "\n",
      "Тест №6\tlearning rate=0.005\tnumber of components=64\n",
      "Epoch\tTrain\tTest\n",
      "1  \t\t0.63960\n",
      "2  \t\t0.64338\n",
      "3  \t\t0.64606\n",
      "4  \t\t0.64783\n",
      "5  \t0.68826\t0.64910\n",
      "6  \t\t0.65005\n",
      "7  \t\t0.65066\n",
      "8  \t\t0.65126\n",
      "9  \t\t0.65178\n",
      "10  \t0.69582\t0.65213\n",
      "11  \t\t0.65248\n",
      "12  \t\t0.65269\n",
      "13  \t\t0.65286\n",
      "14  \t\t0.65305\n",
      "15  \t0.69980\t0.65318\n",
      "16  \t\t0.65328\n",
      "17  \t\t0.65333\n",
      "18  \t\t0.65341\n",
      "19  \t\t0.65346\n",
      "20  \t0.70209\t0.65351\n",
      "21  \t\t0.65356\n",
      "22  \t\t0.65357\n",
      "23  \t\t0.65362\n",
      "24  \t\t0.65357\n",
      "25  \t0.70367\t0.65359\n",
      "\n"
     ]
    }
   ],
   "source": [
    "results_LFM_genres = pd.DataFrame(columns=[\"learning_rate\", \"n_components\", \"epoch\", \"trainAUC\", \"testAUC\"])\n",
    "\n",
    "i = 0\n",
    "\n",
    "for lr in learning_rate:\n",
    "    for n_c in n_components:\n",
    "        print(f\"Тест №{(i+1)}\\tlearning rate={lr}\\tnumber of components={n_c}\")\n",
    "        ep, train_auc, test_auc = testLightFM(lr=lr, n_c=n_c, item_features=g_encoded, epochs=epochs)\n",
    "        results_LFM_genres.loc[i] = (lr, n_c, ep, train_auc, test_auc)\n",
    "        i+=1\n",
    "        print()"
   ]
  },
  {
   "cell_type": "code",
   "execution_count": 69,
   "id": "bd0932d8",
   "metadata": {
    "scrolled": false
   },
   "outputs": [
    {
     "data": {
      "text/html": [
       "<div>\n",
       "<style scoped>\n",
       "    .dataframe tbody tr th:only-of-type {\n",
       "        vertical-align: middle;\n",
       "    }\n",
       "\n",
       "    .dataframe tbody tr th {\n",
       "        vertical-align: top;\n",
       "    }\n",
       "\n",
       "    .dataframe thead th {\n",
       "        text-align: right;\n",
       "    }\n",
       "</style>\n",
       "<table border=\"1\" class=\"dataframe\">\n",
       "  <thead>\n",
       "    <tr style=\"text-align: right;\">\n",
       "      <th></th>\n",
       "      <th>learning_rate</th>\n",
       "      <th>n_components</th>\n",
       "      <th>epoch</th>\n",
       "      <th>trainAUC</th>\n",
       "      <th>testAUC</th>\n",
       "    </tr>\n",
       "  </thead>\n",
       "  <tbody>\n",
       "    <tr>\n",
       "      <th>0</th>\n",
       "      <td>0.050</td>\n",
       "      <td>16.0</td>\n",
       "      <td>4.0</td>\n",
       "      <td>0.700782</td>\n",
       "      <td>0.648437</td>\n",
       "    </tr>\n",
       "    <tr>\n",
       "      <th>1</th>\n",
       "      <td>0.050</td>\n",
       "      <td>32.0</td>\n",
       "      <td>1.0</td>\n",
       "      <td>0.000000</td>\n",
       "      <td>0.650417</td>\n",
       "    </tr>\n",
       "    <tr>\n",
       "      <th>3</th>\n",
       "      <td>0.005</td>\n",
       "      <td>16.0</td>\n",
       "      <td>24.0</td>\n",
       "      <td>0.693705</td>\n",
       "      <td>0.651902</td>\n",
       "    </tr>\n",
       "    <tr>\n",
       "      <th>2</th>\n",
       "      <td>0.050</td>\n",
       "      <td>64.0</td>\n",
       "      <td>0.0</td>\n",
       "      <td>0.000000</td>\n",
       "      <td>0.652390</td>\n",
       "    </tr>\n",
       "    <tr>\n",
       "      <th>4</th>\n",
       "      <td>0.005</td>\n",
       "      <td>32.0</td>\n",
       "      <td>24.0</td>\n",
       "      <td>0.698395</td>\n",
       "      <td>0.652982</td>\n",
       "    </tr>\n",
       "    <tr>\n",
       "      <th>5</th>\n",
       "      <td>0.005</td>\n",
       "      <td>64.0</td>\n",
       "      <td>22.0</td>\n",
       "      <td>0.702092</td>\n",
       "      <td>0.653616</td>\n",
       "    </tr>\n",
       "  </tbody>\n",
       "</table>\n",
       "</div>"
      ],
      "text/plain": [
       "   learning_rate  n_components  epoch  trainAUC   testAUC\n",
       "0          0.050          16.0    4.0  0.700782  0.648437\n",
       "1          0.050          32.0    1.0  0.000000  0.650417\n",
       "3          0.005          16.0   24.0  0.693705  0.651902\n",
       "2          0.050          64.0    0.0  0.000000  0.652390\n",
       "4          0.005          32.0   24.0  0.698395  0.652982\n",
       "5          0.005          64.0   22.0  0.702092  0.653616"
      ]
     },
     "execution_count": 69,
     "metadata": {},
     "output_type": "execute_result"
    }
   ],
   "source": [
    "results_LFM_genres.sort_values(\"testAUC\")"
   ]
  },
  {
   "cell_type": "markdown",
   "id": "b0c6395c",
   "metadata": {},
   "source": [
    "#### Вывод"
   ]
  },
  {
   "cell_type": "markdown",
   "id": "c2f6234d",
   "metadata": {},
   "source": [
    "Модель LightFM с добавлением информации о жанрах фильмов, закодированной в векторном представлении, отработала значительно хуже, чем та же модель без дополнительной информации о фильмах. \n",
    "\n",
    "Полученные максимальные значения точности - **0.702092** на обучающем и **0.653616** на тестовом наборе - демонстрируют низкую сходимость модели. Я связываю это с тем, что, возможно, векторное представление фильмов в модели слабо соотносится с векторным представлением жанров фильмов, что вызывает трудности при обучении."
   ]
  },
  {
   "cell_type": "markdown",
   "id": "9382b7e3",
   "metadata": {},
   "source": [
    "### 6.2.2. LightFM + tags"
   ]
  },
  {
   "cell_type": "markdown",
   "id": "dab98bc2",
   "metadata": {},
   "source": [
    "При обучении данной модели воспользуемся информацией о тэгах фильмов. Списки гиперпараметров оставим без изменений."
   ]
  },
  {
   "cell_type": "code",
   "execution_count": 70,
   "id": "8d7c353b",
   "metadata": {
    "scrolled": true
   },
   "outputs": [
    {
     "name": "stdout",
     "output_type": "stream",
     "text": [
      "Тест №1\tlearning rate=0.05\tnumber of components=16\n",
      "Epoch\tTrain\tTest\n",
      "1  \t\t0.86231\n",
      "2  \t\t0.86759\n",
      "3  \t\t0.87063\n",
      "4  \t\t0.87217\n",
      "5  \t0.90934\t0.87326\n",
      "6  \t\t0.87424\n",
      "7  \t\t0.87492\n",
      "8  \t\t0.87530\n",
      "9  \t\t0.87588\n",
      "10  \t0.91254\t0.87607\n",
      "11  \t\t0.87644\n",
      "12  \t\t0.87647\n",
      "13  \t\t0.87674\n",
      "14  \t\t0.87688\n",
      "15  \t0.91399\t0.87704\n",
      "16  \t\t0.87723\n",
      "17  \t\t0.87730\n",
      "18  \t\t0.87733\n",
      "19  \t\t0.87752\n",
      "20  \t0.91478\t0.87750\n",
      "21  \t\t0.87732\n",
      "22  \t\t0.87754\n",
      "23  \t\t0.87756\n",
      "24  \t\t0.87780\n",
      "25  \t0.91519\t0.87758\n",
      "\n",
      "Тест №2\tlearning rate=0.05\tnumber of components=32\n",
      "Epoch\tTrain\tTest\n",
      "1  \t\t0.86720\n",
      "2  \t\t0.87221\n",
      "3  \t\t0.87428\n",
      "4  \t\t0.87529\n",
      "5  \t0.91399\t0.87593\n",
      "6  \t\t0.87634\n",
      "7  \t\t0.87681\n",
      "8  \t\t0.87667\n",
      "9  \t\t0.87676\n",
      "10  \t0.91631\t0.87689\n",
      "11  \t\t0.87671\n",
      "12  \t\t0.87675\n"
     ]
    },
    {
     "ename": "KeyboardInterrupt",
     "evalue": "",
     "output_type": "error",
     "traceback": [
      "\u001b[0;31m---------------------------------------------------------------------------\u001b[0m",
      "\u001b[0;31mKeyboardInterrupt\u001b[0m                         Traceback (most recent call last)",
      "\u001b[0;32m<ipython-input-70-c4cab7671afd>\u001b[0m in \u001b[0;36m<module>\u001b[0;34m\u001b[0m\n\u001b[1;32m      6\u001b[0m     \u001b[0;32mfor\u001b[0m \u001b[0mn_c\u001b[0m \u001b[0;32min\u001b[0m \u001b[0mn_components\u001b[0m\u001b[0;34m:\u001b[0m\u001b[0;34m\u001b[0m\u001b[0;34m\u001b[0m\u001b[0m\n\u001b[1;32m      7\u001b[0m         \u001b[0mprint\u001b[0m\u001b[0;34m(\u001b[0m\u001b[0;34mf\"Тест №{(i+1)}\\tlearning rate={lr}\\tnumber of components={n_c}\"\u001b[0m\u001b[0;34m)\u001b[0m\u001b[0;34m\u001b[0m\u001b[0;34m\u001b[0m\u001b[0m\n\u001b[0;32m----> 8\u001b[0;31m         \u001b[0mep\u001b[0m\u001b[0;34m,\u001b[0m \u001b[0mtrain_auc\u001b[0m\u001b[0;34m,\u001b[0m \u001b[0mtest_auc\u001b[0m \u001b[0;34m=\u001b[0m \u001b[0mtestLightFM\u001b[0m\u001b[0;34m(\u001b[0m\u001b[0mlr\u001b[0m\u001b[0;34m=\u001b[0m\u001b[0mlr\u001b[0m\u001b[0;34m,\u001b[0m \u001b[0mn_c\u001b[0m\u001b[0;34m=\u001b[0m\u001b[0mn_c\u001b[0m\u001b[0;34m,\u001b[0m \u001b[0mitem_features\u001b[0m\u001b[0;34m=\u001b[0m\u001b[0mt_encoded\u001b[0m\u001b[0;34m,\u001b[0m \u001b[0mepochs\u001b[0m\u001b[0;34m=\u001b[0m\u001b[0mepochs\u001b[0m\u001b[0;34m)\u001b[0m\u001b[0;34m\u001b[0m\u001b[0;34m\u001b[0m\u001b[0m\n\u001b[0m\u001b[1;32m      9\u001b[0m         \u001b[0mresults_LFM_tags\u001b[0m\u001b[0;34m.\u001b[0m\u001b[0mloc\u001b[0m\u001b[0;34m[\u001b[0m\u001b[0mi\u001b[0m\u001b[0;34m]\u001b[0m \u001b[0;34m=\u001b[0m \u001b[0;34m(\u001b[0m\u001b[0mlr\u001b[0m\u001b[0;34m,\u001b[0m \u001b[0mn_c\u001b[0m\u001b[0;34m,\u001b[0m \u001b[0mep\u001b[0m\u001b[0;34m,\u001b[0m \u001b[0mtrain_auc\u001b[0m\u001b[0;34m,\u001b[0m \u001b[0mtest_auc\u001b[0m\u001b[0;34m)\u001b[0m\u001b[0;34m\u001b[0m\u001b[0;34m\u001b[0m\u001b[0m\n\u001b[1;32m     10\u001b[0m         \u001b[0mi\u001b[0m\u001b[0;34m+=\u001b[0m\u001b[0;36m1\u001b[0m\u001b[0;34m\u001b[0m\u001b[0;34m\u001b[0m\u001b[0m\n",
      "\u001b[0;32m<ipython-input-60-ad2e6aac90f4>\u001b[0m in \u001b[0;36mtestLightFM\u001b[0;34m(n_c, epochs, lr, loss, item_features)\u001b[0m\n\u001b[1;32m      6\u001b[0m     \u001b[0mts_auc\u001b[0m \u001b[0;34m=\u001b[0m \u001b[0;36m0\u001b[0m\u001b[0;34m\u001b[0m\u001b[0;34m\u001b[0m\u001b[0m\n\u001b[1;32m      7\u001b[0m     \u001b[0;32mfor\u001b[0m \u001b[0mi\u001b[0m \u001b[0;32min\u001b[0m \u001b[0mrange\u001b[0m\u001b[0;34m(\u001b[0m\u001b[0mepochs\u001b[0m\u001b[0;34m)\u001b[0m\u001b[0;34m:\u001b[0m\u001b[0;34m\u001b[0m\u001b[0;34m\u001b[0m\u001b[0m\n\u001b[0;32m----> 8\u001b[0;31m         \u001b[0mmodel\u001b[0m\u001b[0;34m.\u001b[0m\u001b[0mfit_partial\u001b[0m\u001b[0;34m(\u001b[0m\u001b[0mtrain_sparse\u001b[0m\u001b[0;34m,\u001b[0m \u001b[0mepochs\u001b[0m\u001b[0;34m=\u001b[0m\u001b[0;36m1\u001b[0m\u001b[0;34m,\u001b[0m \u001b[0mverbose\u001b[0m\u001b[0;34m=\u001b[0m\u001b[0;32mFalse\u001b[0m\u001b[0;34m,\u001b[0m \u001b[0mnum_threads\u001b[0m\u001b[0;34m=\u001b[0m\u001b[0;36m6\u001b[0m\u001b[0;34m,\u001b[0m \u001b[0mitem_features\u001b[0m\u001b[0;34m=\u001b[0m\u001b[0mitem_features\u001b[0m\u001b[0;34m)\u001b[0m\u001b[0;34m\u001b[0m\u001b[0;34m\u001b[0m\u001b[0m\n\u001b[0m\u001b[1;32m      9\u001b[0m \u001b[0;34m\u001b[0m\u001b[0m\n\u001b[1;32m     10\u001b[0m         \u001b[0;32mif\u001b[0m \u001b[0;34m(\u001b[0m\u001b[0mi\u001b[0m\u001b[0;34m+\u001b[0m\u001b[0;36m1\u001b[0m\u001b[0;34m)\u001b[0m\u001b[0;34m%\u001b[0m\u001b[0;36m5\u001b[0m\u001b[0;34m==\u001b[0m\u001b[0;36m0\u001b[0m\u001b[0;34m:\u001b[0m\u001b[0;34m\u001b[0m\u001b[0;34m\u001b[0m\u001b[0m\n",
      "\u001b[0;32m/home/lightfm/lightfm/lightfm.py\u001b[0m in \u001b[0;36mfit_partial\u001b[0;34m(self, interactions, user_features, item_features, sample_weight, epochs, num_threads, verbose)\u001b[0m\n\u001b[1;32m    653\u001b[0m \u001b[0;34m\u001b[0m\u001b[0m\n\u001b[1;32m    654\u001b[0m         \u001b[0;32mfor\u001b[0m \u001b[0m_\u001b[0m \u001b[0;32min\u001b[0m \u001b[0mself\u001b[0m\u001b[0;34m.\u001b[0m\u001b[0m_progress\u001b[0m\u001b[0;34m(\u001b[0m\u001b[0mepochs\u001b[0m\u001b[0;34m,\u001b[0m \u001b[0mverbose\u001b[0m\u001b[0;34m=\u001b[0m\u001b[0mverbose\u001b[0m\u001b[0;34m)\u001b[0m\u001b[0;34m:\u001b[0m\u001b[0;34m\u001b[0m\u001b[0;34m\u001b[0m\u001b[0m\n\u001b[0;32m--> 655\u001b[0;31m             self._run_epoch(\n\u001b[0m\u001b[1;32m    656\u001b[0m                 \u001b[0mitem_features\u001b[0m\u001b[0;34m,\u001b[0m\u001b[0;34m\u001b[0m\u001b[0;34m\u001b[0m\u001b[0m\n\u001b[1;32m    657\u001b[0m                 \u001b[0muser_features\u001b[0m\u001b[0;34m,\u001b[0m\u001b[0;34m\u001b[0m\u001b[0;34m\u001b[0m\u001b[0m\n",
      "\u001b[0;32m/home/lightfm/lightfm/lightfm.py\u001b[0m in \u001b[0;36m_run_epoch\u001b[0;34m(self, item_features, user_features, interactions, sample_weight, num_threads, loss)\u001b[0m\n\u001b[1;32m    694\u001b[0m         \u001b[0;31m# Call the estimation routines.\u001b[0m\u001b[0;34m\u001b[0m\u001b[0;34m\u001b[0m\u001b[0;34m\u001b[0m\u001b[0m\n\u001b[1;32m    695\u001b[0m         \u001b[0;32mif\u001b[0m \u001b[0mloss\u001b[0m \u001b[0;34m==\u001b[0m \u001b[0;34m\"warp\"\u001b[0m\u001b[0;34m:\u001b[0m\u001b[0;34m\u001b[0m\u001b[0;34m\u001b[0m\u001b[0m\n\u001b[0;32m--> 696\u001b[0;31m             fit_warp(\n\u001b[0m\u001b[1;32m    697\u001b[0m                 \u001b[0mCSRMatrix\u001b[0m\u001b[0;34m(\u001b[0m\u001b[0mitem_features\u001b[0m\u001b[0;34m)\u001b[0m\u001b[0;34m,\u001b[0m\u001b[0;34m\u001b[0m\u001b[0;34m\u001b[0m\u001b[0m\n\u001b[1;32m    698\u001b[0m                 \u001b[0mCSRMatrix\u001b[0m\u001b[0;34m(\u001b[0m\u001b[0muser_features\u001b[0m\u001b[0;34m)\u001b[0m\u001b[0;34m,\u001b[0m\u001b[0;34m\u001b[0m\u001b[0;34m\u001b[0m\u001b[0m\n",
      "\u001b[0;31mKeyboardInterrupt\u001b[0m: "
     ]
    }
   ],
   "source": [
    "results_LFM_tags = pd.DataFrame(columns=[\"learning_rate\", \"n_components\", \"epoch\", \"trainAUC\", \"testAUC\"])\n",
    "\n",
    "i = 0\n",
    "\n",
    "for lr in learning_rate:\n",
    "    for n_c in n_components:\n",
    "        print(f\"Тест №{(i+1)}\\tlearning rate={lr}\\tnumber of components={n_c}\")\n",
    "        ep, train_auc, test_auc = testLightFM(lr=lr, n_c=n_c, item_features=t_encoded, epochs=epochs)\n",
    "        results_LFM_tags.loc[i] = (lr, n_c, ep, train_auc, test_auc)\n",
    "        i+=1\n",
    "        print()"
   ]
  },
  {
   "cell_type": "code",
   "execution_count": 71,
   "id": "ee606fad",
   "metadata": {
    "scrolled": true
   },
   "outputs": [
    {
     "data": {
      "text/html": [
       "<div>\n",
       "<style scoped>\n",
       "    .dataframe tbody tr th:only-of-type {\n",
       "        vertical-align: middle;\n",
       "    }\n",
       "\n",
       "    .dataframe tbody tr th {\n",
       "        vertical-align: top;\n",
       "    }\n",
       "\n",
       "    .dataframe thead th {\n",
       "        text-align: right;\n",
       "    }\n",
       "</style>\n",
       "<table border=\"1\" class=\"dataframe\">\n",
       "  <thead>\n",
       "    <tr style=\"text-align: right;\">\n",
       "      <th></th>\n",
       "      <th>learning_rate</th>\n",
       "      <th>n_components</th>\n",
       "      <th>epoch</th>\n",
       "      <th>trainAUC</th>\n",
       "      <th>testAUC</th>\n",
       "    </tr>\n",
       "  </thead>\n",
       "  <tbody>\n",
       "    <tr>\n",
       "      <th>0</th>\n",
       "      <td>0.05</td>\n",
       "      <td>16.0</td>\n",
       "      <td>23.0</td>\n",
       "      <td>0.914776</td>\n",
       "      <td>0.877805</td>\n",
       "    </tr>\n",
       "  </tbody>\n",
       "</table>\n",
       "</div>"
      ],
      "text/plain": [
       "   learning_rate  n_components  epoch  trainAUC   testAUC\n",
       "0           0.05          16.0   23.0  0.914776  0.877805"
      ]
     },
     "execution_count": 71,
     "metadata": {},
     "output_type": "execute_result"
    }
   ],
   "source": [
    "results_LFM_tags.sort_values(\"testAUC\")"
   ]
  },
  {
   "cell_type": "markdown",
   "id": "aba8463f",
   "metadata": {},
   "source": [
    "#### Вывод"
   ]
  },
  {
   "cell_type": "markdown",
   "id": "42cbe4e8",
   "metadata": {},
   "source": [
    "Тестирование пришлось прервать предварительно, поскольку на обучение и тестирование для одной одной эпохи уходило 15 минут реального времени.\n",
    "\n",
    "Однако, модель LightFM с добавлением данных о тэгах фильмов показала значительно лучшие результаты, чем та же модель с добавлением информации о жанрах - **0.914776** на обучающем и **0.877805** на тестовом наборе. Это говорит о том, что тэги, возможно, содержит в себе дополнительную информацию о каждом фильме, для изъятия которой может потребоваться увеличить продолжительность обучения.\n",
    "\n",
    "Кроме того, было бы интересно проверить дальнейшую сходимость модели при различных гиперпараметрах (если бы обучение не занимало так долго)."
   ]
  },
  {
   "cell_type": "markdown",
   "id": "dc143255",
   "metadata": {},
   "source": [
    "# 7. Вывод"
   ]
  },
  {
   "cell_type": "markdown",
   "id": "20e57144",
   "metadata": {},
   "source": [
    "## 7.1. Общие выводы"
   ]
  },
  {
   "cell_type": "markdown",
   "id": "fc36d629",
   "metadata": {},
   "source": [
    "В результате проведенного исследования были получены следующие показатели метрики ROC AUC для моделей\n",
    "\n",
    "**Коллаборативный подход**\n",
    "1. *LightFM - 0.963935 - 0.936962*\n",
    "2. SVD - 0.824560 - 0.731816\n",
    "3. Implicit-ALS - 0.735655 - 0.631646\n",
    "\n",
    "**Гибридный подход**\n",
    "\n",
    "1. *LightFM+tags - 0.914776 - 0.877805*\n",
    "2. LightFM+genres - 0.702092 - 0.653616\n"
   ]
  },
  {
   "cell_type": "markdown",
   "id": "cae22f94",
   "metadata": {},
   "source": [
    "Для коллаборативного подхода самой успешной моделью, согласно метрике AUC, стала модель LightFM с параметрами *n_components=32* и *learning_rate=0.05*.  \n",
    "\n",
    "Для гибридного подхода наибольшего успеха достигла модель LightFM+tags с параметрами *n_components=16* и *learning_rate=0.05*. "
   ]
  },
  {
   "cell_type": "markdown",
   "id": "50e753f9",
   "metadata": {},
   "source": [
    "Наилучших показателей метрики среди всех моделей достигла модель LightFM с использование коллаборативного подхода. "
   ]
  },
  {
   "cell_type": "markdown",
   "id": "386cdbcc",
   "metadata": {},
   "source": [
    "## 7.2. Оценка статистической значимости\n"
   ]
  },
  {
   "cell_type": "markdown",
   "id": "1556c5d0",
   "metadata": {},
   "source": [
    "### 7.2.1. Подготовка"
   ]
  },
  {
   "cell_type": "markdown",
   "id": "5f535ede",
   "metadata": {},
   "source": [
    "Для оценки статистической значимости использования получившихся моделей для бинарной классификации воспользуемся тестом МакНемара и уровнем значимости альфа 0.01."
   ]
  },
  {
   "cell_type": "code",
   "execution_count": 83,
   "id": "fa344f79",
   "metadata": {},
   "outputs": [],
   "source": [
    "alpha = 0.01"
   ]
  },
  {
   "cell_type": "code",
   "execution_count": 71,
   "id": "aa3ec77b",
   "metadata": {
    "scrolled": true
   },
   "outputs": [],
   "source": [
    "!pip install mlxtend --quiet\n",
    "!pip install statsmodels --quiet\n",
    "from statsmodels.stats.contingency_tables import mcnemar\n",
    "from mlxtend.plotting import checkerboard_plot\n",
    "from mlxtend.evaluate import mcnemar_table"
   ]
  },
  {
   "cell_type": "markdown",
   "id": "524019a8",
   "metadata": {},
   "source": [
    "Поскольку я не сохранил модели, пришлось заново написать методы для рассчета оценок, взяв наилучшие значения параметров для каждой сети. Установим порог решающего правила 0.5"
   ]
  },
  {
   "cell_type": "code",
   "execution_count": 65,
   "id": "c6fe66b5",
   "metadata": {},
   "outputs": [],
   "source": [
    "def svd_pred_ratings(k=15):\n",
    "    \"\"\"\n",
    "    Данный метод возвращает оценки фильмов, предсказанные с помощью модели SVD  \n",
    "    \"\"\"\n",
    "    # SVD разложение\n",
    "    U, S, V = scipy.sparse.linalg.svds(train_sparse, k=15)\n",
    "    Us = U.dot(np.diag(S))\n",
    "    \n",
    "    # SVD матрица\n",
    "    matrix_pr = np.dot(Us, V).astype(np.float16)\n",
    "    it = (i for i in range(len(test_movies)))\n",
    "    # Преобразуем в векторный вид\n",
    "    pred_ratings = [matrix_pr[next(it)][x-1] for x in test_movies]\n",
    "    del matrix_pr\n",
    "    pred_ratings = np.array([x for ar in pred_ratings for x in ar])\n",
    "    # Нормируем\n",
    "    pred_ratings = (pred_ratings - pred_ratings.min())/(pred_ratings.max()-pred_ratings.min())\n",
    "    pred_ratings = (pred_ratings>=0.5).astype(int)\n",
    "    \n",
    "    return pred_ratings"
   ]
  },
  {
   "cell_type": "code",
   "execution_count": 66,
   "id": "d67b12e1",
   "metadata": {},
   "outputs": [],
   "source": [
    "def als_pred_ratings(fc=16, rg=0.10, it=20):\n",
    "    \"\"\"\n",
    "    Данный метод возвращает оценки фильмов, предсказанные с помощью модели Implicit-ALS  \n",
    "    \"\"\"\n",
    "    # Обучим модель\n",
    "    model = imp.als.AlternatingLeastSquares(factors=fc, regularization=rg, iterations=it)\n",
    "    model.fit(train_sparse.T)\n",
    "    pred = [model.rank_items(x, test_sparse, test_movies[x]-1) for x in range(test_sparse.shape[0])]\n",
    "\n",
    "    # Сопоставляем оценки модели с номерами фильмов в movies\n",
    "    pred_dict = [{(i+1):pr for i, pr in u} for u in pred]\n",
    "    pred = np.array([pred_dict[i][x] for i, ar in enumerate(test_movies) for x in ar])\n",
    "\n",
    "    # Нормализуем оценки\n",
    "    pred_ratings = (pred - pred.min())/(pred.max()-pred.min())\n",
    "    pred_ratings = (pred_ratings>=0.5).astype(int)\n",
    "    \n",
    "    return pred_ratings"
   ]
  },
  {
   "cell_type": "code",
   "execution_count": 93,
   "id": "d868b53a",
   "metadata": {},
   "outputs": [],
   "source": [
    "def lightfm_pred_ratings(n_c=32, loss=\"warp\", lr=0.05, epochs=25, item_features=None):\n",
    "    \"\"\"\n",
    "    Данный метод возвращает оценки фильмов, предсказанные с помощью модели LightFM  \n",
    "    \"\"\"\n",
    "    # Обучим модель\n",
    "    model = LightFM(no_components=n_c, loss=loss, learning_rate=lr)\n",
    "    model.fit(train_sparse, epochs=epochs, verbose=True, num_threads=6, item_features=item_features)\n",
    "    # Предскажем значения\n",
    "    pred_ratings = np.array([model.predict(x, test_movies[x]-1, item_features=item_features, num_threads=6)\\\n",
    "                             for x in range(test_sparse.shape[0])]).ravel()\n",
    "    pred_ratings = (pred_ratings>0).ravel()\n",
    "    \n",
    "    return pred_ratings"
   ]
  },
  {
   "cell_type": "markdown",
   "id": "0fabb16d",
   "metadata": {},
   "source": [
    "Переведем таблицу верных оценок в векторный формат"
   ]
  },
  {
   "cell_type": "code",
   "execution_count": 68,
   "id": "c0319407",
   "metadata": {},
   "outputs": [],
   "source": [
    "true_ratings = np.array([x for ar in test_true_ratings for x in ar])>=0"
   ]
  },
  {
   "cell_type": "markdown",
   "id": "f3186c88",
   "metadata": {},
   "source": [
    "Найдем оценки для каждого из подходов. В качестве baseline возьмем случайный вектор, выбранный из нормального распределения."
   ]
  },
  {
   "cell_type": "code",
   "execution_count": 78,
   "id": "05cfcf91",
   "metadata": {
    "scrolled": true
   },
   "outputs": [
    {
     "data": {
      "application/vnd.jupyter.widget-view+json": {
       "model_id": "5e3ed290368e472e8a55448698733ce8",
       "version_major": 2,
       "version_minor": 0
      },
      "text/plain": [
       "HBox(children=(HTML(value=''), FloatProgress(value=0.0, max=20.0), HTML(value='')))"
      ]
     },
     "metadata": {},
     "output_type": "display_data"
    },
    {
     "name": "stdout",
     "output_type": "stream",
     "text": [
      "\n"
     ]
    },
    {
     "name": "stderr",
     "output_type": "stream",
     "text": [
      "Epoch: 100%|██████████| 25/25 [01:38<00:00,  3.92s/it]\n",
      "Epoch: 100%|██████████| 25/25 [08:21<00:00, 20.06s/it]\n"
     ]
    }
   ],
   "source": [
    "baseline = (np.random.normal(size=(len(true_ratings)))>0).astype(int)\n",
    "\n",
    "svd_pred = svd_pred_ratings()\n",
    "als_pred = als_pred_ratings()\n",
    "lfm_pred = lightfm_pred_ratings()\n",
    "lfm_g_pred = lightfm_pred_ratings(n_c=64, lr=0.005, item_features=g_encoded)"
   ]
  },
  {
   "cell_type": "markdown",
   "id": "entertaining-allowance",
   "metadata": {},
   "source": [
    "На полное повторное обучение модели LightFM+tags не остается времени, поэтому установим длительность ее обучения в 1 эпоху"
   ]
  },
  {
   "cell_type": "code",
   "execution_count": 100,
   "id": "36b70bed",
   "metadata": {},
   "outputs": [
    {
     "name": "stderr",
     "output_type": "stream",
     "text": [
      "Epoch: 100%|██████████| 1/1 [04:14<00:00, 254.56s/it]\n"
     ]
    }
   ],
   "source": [
    "lfm_t_pred = lightfm_pred_ratings(n_c=16, lr=0.05, item_features=t_encoded, epochs=1)"
   ]
  },
  {
   "cell_type": "markdown",
   "id": "010a33ad",
   "metadata": {},
   "source": [
    "### 7.2.2. Оценка и ранжирование"
   ]
  },
  {
   "cell_type": "markdown",
   "id": "a80745c9",
   "metadata": {},
   "source": [
    "Проведем попарную оценку статистической значимости между моделями, а также выведем их ранжирование между собой на экран."
   ]
  },
  {
   "cell_type": "code",
   "execution_count": 103,
   "id": "ecee1954",
   "metadata": {},
   "outputs": [],
   "source": [
    "pred_dict = dict(zip((\"baseline\", \"svd\", \"als\", \"lfm\", \"lfmg\", \"lfmt\"),\\\n",
    "                     [baseline,svd_pred,als_pred,lfm_pred,lfm_g_pred, lfm_t_pred]))\n",
    "pred_range = dict(zip((\"baseline\", \"svd\", \"als\", \"lfm\", \"lfmg\", \"lfmt\"), np.zeros(shape=6)))"
   ]
  },
  {
   "cell_type": "code",
   "execution_count": 104,
   "id": "0b06a1da",
   "metadata": {},
   "outputs": [
    {
     "name": "stdout",
     "output_type": "stream",
     "text": [
      "{'baseline': 2.0, 'svd': 6.0, 'als': 0.0, 'lfm': 8.0, 'lfmg': 4.0, 'lfmt': 10.0}\n",
      "lfmt > lfm > svd > lfmg > baseline > als\n"
     ]
    },
    {
     "data": {
      "text/html": [
       "<div>\n",
       "<style scoped>\n",
       "    .dataframe tbody tr th:only-of-type {\n",
       "        vertical-align: middle;\n",
       "    }\n",
       "\n",
       "    .dataframe tbody tr th {\n",
       "        vertical-align: top;\n",
       "    }\n",
       "\n",
       "    .dataframe thead th {\n",
       "        text-align: right;\n",
       "    }\n",
       "</style>\n",
       "<table border=\"1\" class=\"dataframe\">\n",
       "  <thead>\n",
       "    <tr style=\"text-align: right;\">\n",
       "      <th></th>\n",
       "      <th>baseline</th>\n",
       "      <th>svd</th>\n",
       "      <th>als</th>\n",
       "      <th>lfm</th>\n",
       "      <th>lfmg</th>\n",
       "      <th>lfmt</th>\n",
       "    </tr>\n",
       "  </thead>\n",
       "  <tbody>\n",
       "    <tr>\n",
       "      <th>baseline</th>\n",
       "      <td>False</td>\n",
       "      <td>True</td>\n",
       "      <td>True</td>\n",
       "      <td>True</td>\n",
       "      <td>True</td>\n",
       "      <td>True</td>\n",
       "    </tr>\n",
       "    <tr>\n",
       "      <th>svd</th>\n",
       "      <td>True</td>\n",
       "      <td>False</td>\n",
       "      <td>True</td>\n",
       "      <td>True</td>\n",
       "      <td>True</td>\n",
       "      <td>True</td>\n",
       "    </tr>\n",
       "    <tr>\n",
       "      <th>als</th>\n",
       "      <td>True</td>\n",
       "      <td>True</td>\n",
       "      <td>False</td>\n",
       "      <td>True</td>\n",
       "      <td>True</td>\n",
       "      <td>True</td>\n",
       "    </tr>\n",
       "    <tr>\n",
       "      <th>lfm</th>\n",
       "      <td>True</td>\n",
       "      <td>True</td>\n",
       "      <td>True</td>\n",
       "      <td>False</td>\n",
       "      <td>True</td>\n",
       "      <td>True</td>\n",
       "    </tr>\n",
       "    <tr>\n",
       "      <th>lfmg</th>\n",
       "      <td>True</td>\n",
       "      <td>True</td>\n",
       "      <td>True</td>\n",
       "      <td>True</td>\n",
       "      <td>False</td>\n",
       "      <td>True</td>\n",
       "    </tr>\n",
       "    <tr>\n",
       "      <th>lfmt</th>\n",
       "      <td>True</td>\n",
       "      <td>True</td>\n",
       "      <td>True</td>\n",
       "      <td>True</td>\n",
       "      <td>True</td>\n",
       "      <td>False</td>\n",
       "    </tr>\n",
       "  </tbody>\n",
       "</table>\n",
       "</div>"
      ],
      "text/plain": [
       "         baseline    svd    als    lfm   lfmg   lfmt\n",
       "baseline    False   True   True   True   True   True\n",
       "svd          True  False   True   True   True   True\n",
       "als          True   True  False   True   True   True\n",
       "lfm          True   True   True  False   True   True\n",
       "lfmg         True   True   True   True  False   True\n",
       "lfmt         True   True   True   True   True  False"
      ]
     },
     "execution_count": 104,
     "metadata": {},
     "output_type": "execute_result"
    }
   ],
   "source": [
    "results = pd.DataFrame(index=list(pred_dict.keys()), \\\n",
    "                       columns=list(pred_dict.keys()), dtype=str)\n",
    "\n",
    "for i, m1 in enumerate(list(pred_dict.keys())):\n",
    "    for j, m2 in enumerate(list(pred_dict.keys())):\n",
    "        table = mcnemar_table(true_ratings, pred_dict[m1], pred_dict[m2])\n",
    "        results.iloc[i,j] = mcnemar(table).pvalue < alpha\n",
    "        if m1!=m2:\n",
    "            if table[0,1]>table[1,0]:\n",
    "                pred_range[m1] += 1\n",
    "            elif table[0,1]<table[1,0]:\n",
    "                pred_range[m2] += 1\n",
    "            else:\n",
    "                pred_range[m1] += 1\n",
    "                pred_range[m2] += 1\n",
    "            #print(f\"{m1} better than {m2}\" if table[0,1]>table[1,0] else f\"{m1} worse than {m2}\" )\n",
    "print(pred_range)\n",
    "print(\" > \".join(dict(sorted(pred_range.items(), key=lambda item: item[1], reverse=True)).keys()))\n",
    "results"
   ]
  },
  {
   "cell_type": "markdown",
   "id": "7072a9be",
   "metadata": {},
   "source": [
    "Из полученного вывода видно, что увеличение частоты правильных ответов между всеми парами моделей статистически значимо.   \n",
    "\n",
    "Это значит, что в получившейся ранжировке моделей, изменения в точности между любыми двумя моделями также статистически значимо.\n",
    "\n",
    "Итоговая ранжировка моделей по точности:  \n",
    "\n",
    "**LFM+T(hybrid) > LFM(colab) > SVD(colab) > LFM+G(hybrid) > Baseline > ALS(colab)**\n",
    "\n",
    "Примечательно, что при пороговом значении в 0.5, модель LFM+T демонстрирует статистически значимо лучшие показатели точности, чем LFM модель, хоть AUC score модели LFM превышает score LFM+T.  \n",
    "\n",
    "Это говорит о том, что в целом модель LFM показывает лучшие результаты при различных пороговых значениях, однако именно при 0.5 LFM+T лучше. "
   ]
  }
 ],
 "metadata": {
  "kernelspec": {
   "display_name": "Python 3",
   "language": "python",
   "name": "python3"
  },
  "language_info": {
   "codemirror_mode": {
    "name": "ipython",
    "version": 3
   },
   "file_extension": ".py",
   "mimetype": "text/x-python",
   "name": "python",
   "nbconvert_exporter": "python",
   "pygments_lexer": "ipython3",
   "version": "3.7.9"
  }
 },
 "nbformat": 4,
 "nbformat_minor": 5
}
